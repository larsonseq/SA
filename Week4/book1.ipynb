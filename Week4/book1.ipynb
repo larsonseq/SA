{
 "cells": [
  {
   "cell_type": "markdown",
   "id": "94f6a462",
   "metadata": {},
   "source": [
    "# Hellooo"
   ]
  },
  {
   "cell_type": "code",
   "execution_count": 29,
   "id": "bc961b48",
   "metadata": {},
   "outputs": [],
   "source": [
    "import numpy as np\n",
    "import pandas as pd \n",
    "import matplotlib.pyplot as plt \n",
    "import seaborn as sns \n",
    "\n",
    "%matplotlib inline"
   ]
  },
  {
   "cell_type": "code",
   "execution_count": 30,
   "id": "bc2c4c6c",
   "metadata": {},
   "outputs": [],
   "source": [
    "df = pd.read_csv('data/Train_Data.csv')"
   ]
  },
  {
   "cell_type": "code",
   "execution_count": 31,
   "id": "c0f300b6",
   "metadata": {},
   "outputs": [
    {
     "data": {
      "text/plain": [
       "SEQN         12\n",
       "RIAGENDR     18\n",
       "PAQ605       13\n",
       "BMXBMI       18\n",
       "LBXGLU       13\n",
       "DIQ010       18\n",
       "LBXGLT       11\n",
       "LBXIN         9\n",
       "age_group    14\n",
       "dtype: int64"
      ]
     },
     "execution_count": 31,
     "metadata": {},
     "output_type": "execute_result"
    }
   ],
   "source": [
    "df.isnull().sum()"
   ]
  },
  {
   "cell_type": "code",
   "execution_count": 32,
   "id": "64d193bd",
   "metadata": {},
   "outputs": [],
   "source": [
    "import numpy as np\n",
    "\n",
    "# Applying the condition safely\n",
    "df['grp'] = df['age_group'].apply(\n",
    "    lambda x: 0 if isinstance(x, str) and 'Adult' in x else (1 if isinstance(x, str) else np.nan)\n",
    ")\n",
    "\n",
    "df.drop(columns=['SEQN'], inplace=True)\n",
    "\n",
    "df.dropna(subset=['age_group', 'grp'], inplace=True)"
   ]
  },
  {
   "cell_type": "code",
   "execution_count": 33,
   "id": "4b38c07b",
   "metadata": {},
   "outputs": [
    {
     "data": {
      "text/html": [
       "<div>\n",
       "<style scoped>\n",
       "    .dataframe tbody tr th:only-of-type {\n",
       "        vertical-align: middle;\n",
       "    }\n",
       "\n",
       "    .dataframe tbody tr th {\n",
       "        vertical-align: top;\n",
       "    }\n",
       "\n",
       "    .dataframe thead th {\n",
       "        text-align: right;\n",
       "    }\n",
       "</style>\n",
       "<table border=\"1\" class=\"dataframe\">\n",
       "  <thead>\n",
       "    <tr style=\"text-align: right;\">\n",
       "      <th></th>\n",
       "      <th>RIAGENDR</th>\n",
       "      <th>PAQ605</th>\n",
       "      <th>BMXBMI</th>\n",
       "      <th>LBXGLU</th>\n",
       "      <th>DIQ010</th>\n",
       "      <th>LBXGLT</th>\n",
       "      <th>LBXIN</th>\n",
       "      <th>grp</th>\n",
       "    </tr>\n",
       "  </thead>\n",
       "  <tbody>\n",
       "    <tr>\n",
       "      <th>count</th>\n",
       "      <td>1934.000000</td>\n",
       "      <td>1939.000000</td>\n",
       "      <td>1934.000000</td>\n",
       "      <td>1939.000000</td>\n",
       "      <td>1934.000000</td>\n",
       "      <td>1941.000000</td>\n",
       "      <td>1943.000000</td>\n",
       "      <td>1952.000000</td>\n",
       "    </tr>\n",
       "    <tr>\n",
       "      <th>mean</th>\n",
       "      <td>1.509307</td>\n",
       "      <td>1.825683</td>\n",
       "      <td>27.981127</td>\n",
       "      <td>99.466220</td>\n",
       "      <td>2.015512</td>\n",
       "      <td>115.070067</td>\n",
       "      <td>11.875265</td>\n",
       "      <td>0.160861</td>\n",
       "    </tr>\n",
       "    <tr>\n",
       "      <th>std</th>\n",
       "      <td>0.500043</td>\n",
       "      <td>0.399355</td>\n",
       "      <td>7.343856</td>\n",
       "      <td>16.738574</td>\n",
       "      <td>0.186916</td>\n",
       "      <td>46.133851</td>\n",
       "      <td>9.779149</td>\n",
       "      <td>0.367497</td>\n",
       "    </tr>\n",
       "    <tr>\n",
       "      <th>min</th>\n",
       "      <td>1.000000</td>\n",
       "      <td>1.000000</td>\n",
       "      <td>14.500000</td>\n",
       "      <td>63.000000</td>\n",
       "      <td>1.000000</td>\n",
       "      <td>40.000000</td>\n",
       "      <td>0.140000</td>\n",
       "      <td>0.000000</td>\n",
       "    </tr>\n",
       "    <tr>\n",
       "      <th>25%</th>\n",
       "      <td>1.000000</td>\n",
       "      <td>2.000000</td>\n",
       "      <td>22.800000</td>\n",
       "      <td>91.000000</td>\n",
       "      <td>2.000000</td>\n",
       "      <td>87.000000</td>\n",
       "      <td>5.795000</td>\n",
       "      <td>0.000000</td>\n",
       "    </tr>\n",
       "    <tr>\n",
       "      <th>50%</th>\n",
       "      <td>2.000000</td>\n",
       "      <td>2.000000</td>\n",
       "      <td>26.800000</td>\n",
       "      <td>97.000000</td>\n",
       "      <td>2.000000</td>\n",
       "      <td>105.000000</td>\n",
       "      <td>9.030000</td>\n",
       "      <td>0.000000</td>\n",
       "    </tr>\n",
       "    <tr>\n",
       "      <th>75%</th>\n",
       "      <td>2.000000</td>\n",
       "      <td>2.000000</td>\n",
       "      <td>31.300000</td>\n",
       "      <td>104.000000</td>\n",
       "      <td>2.000000</td>\n",
       "      <td>131.000000</td>\n",
       "      <td>14.480000</td>\n",
       "      <td>0.000000</td>\n",
       "    </tr>\n",
       "    <tr>\n",
       "      <th>max</th>\n",
       "      <td>2.000000</td>\n",
       "      <td>7.000000</td>\n",
       "      <td>70.100000</td>\n",
       "      <td>405.000000</td>\n",
       "      <td>3.000000</td>\n",
       "      <td>604.000000</td>\n",
       "      <td>102.290000</td>\n",
       "      <td>1.000000</td>\n",
       "    </tr>\n",
       "  </tbody>\n",
       "</table>\n",
       "</div>"
      ],
      "text/plain": [
       "          RIAGENDR       PAQ605       BMXBMI       LBXGLU       DIQ010  \\\n",
       "count  1934.000000  1939.000000  1934.000000  1939.000000  1934.000000   \n",
       "mean      1.509307     1.825683    27.981127    99.466220     2.015512   \n",
       "std       0.500043     0.399355     7.343856    16.738574     0.186916   \n",
       "min       1.000000     1.000000    14.500000    63.000000     1.000000   \n",
       "25%       1.000000     2.000000    22.800000    91.000000     2.000000   \n",
       "50%       2.000000     2.000000    26.800000    97.000000     2.000000   \n",
       "75%       2.000000     2.000000    31.300000   104.000000     2.000000   \n",
       "max       2.000000     7.000000    70.100000   405.000000     3.000000   \n",
       "\n",
       "            LBXGLT        LBXIN          grp  \n",
       "count  1941.000000  1943.000000  1952.000000  \n",
       "mean    115.070067    11.875265     0.160861  \n",
       "std      46.133851     9.779149     0.367497  \n",
       "min      40.000000     0.140000     0.000000  \n",
       "25%      87.000000     5.795000     0.000000  \n",
       "50%     105.000000     9.030000     0.000000  \n",
       "75%     131.000000    14.480000     0.000000  \n",
       "max     604.000000   102.290000     1.000000  "
      ]
     },
     "execution_count": 33,
     "metadata": {},
     "output_type": "execute_result"
    }
   ],
   "source": [
    "df.describe()"
   ]
  },
  {
   "cell_type": "code",
   "execution_count": 34,
   "id": "df730d46",
   "metadata": {},
   "outputs": [
    {
     "name": "stdout",
     "output_type": "stream",
     "text": [
      "<class 'pandas.core.frame.DataFrame'>\n",
      "Index: 1952 entries, 0 to 1965\n",
      "Data columns (total 9 columns):\n",
      " #   Column     Non-Null Count  Dtype  \n",
      "---  ------     --------------  -----  \n",
      " 0   RIAGENDR   1934 non-null   float64\n",
      " 1   PAQ605     1939 non-null   float64\n",
      " 2   BMXBMI     1934 non-null   float64\n",
      " 3   LBXGLU     1939 non-null   float64\n",
      " 4   DIQ010     1934 non-null   float64\n",
      " 5   LBXGLT     1941 non-null   float64\n",
      " 6   LBXIN      1943 non-null   float64\n",
      " 7   age_group  1952 non-null   object \n",
      " 8   grp        1952 non-null   float64\n",
      "dtypes: float64(8), object(1)\n",
      "memory usage: 152.5+ KB\n"
     ]
    }
   ],
   "source": [
    "df.info()"
   ]
  },
  {
   "cell_type": "code",
   "execution_count": 35,
   "id": "cf3a17e1",
   "metadata": {},
   "outputs": [
    {
     "name": "stdout",
     "output_type": "stream",
     "text": [
      "RIAGENDR     18\n",
      "PAQ605       13\n",
      "BMXBMI       18\n",
      "LBXGLU       13\n",
      "DIQ010       18\n",
      "LBXGLT       11\n",
      "LBXIN         9\n",
      "age_group     0\n",
      "grp           0\n",
      "dtype: int64\n"
     ]
    },
    {
     "data": {
      "text/plain": [
       "<Axes: >"
      ]
     },
     "execution_count": 35,
     "metadata": {},
     "output_type": "execute_result"
    },
    {
     "data": {
      "image/png": "[encoded data removed]",
      "text/plain": [
       "<Figure size 600x400 with 2 Axes>"
      ]
     },
     "metadata": {},
     "output_type": "display_data"
    }
   ],
   "source": [
    "print(df.isnull().sum())\n",
    "plt.figure(figsize=(6, 4))\n",
    "sns.heatmap(df.isnull())"
   ]
  },
  {
   "cell_type": "code",
   "execution_count": 36,
   "id": "859518a3",
   "metadata": {},
   "outputs": [
    {
     "name": "stdout",
     "output_type": "stream",
     "text": [
      "Empty DataFrame\n",
      "Columns: [RIAGENDR, PAQ605, BMXBMI, LBXGLU, DIQ010, LBXGLT, LBXIN, age_group, grp]\n",
      "Index: []\n"
     ]
    }
   ],
   "source": [
    "print(df[df.duplicated()]) "
   ]
  },
  {
   "cell_type": "code",
   "execution_count": 37,
   "id": "a76c2f4d",
   "metadata": {},
   "outputs": [
    {
     "data": {
      "text/plain": [
       "(314, 9)"
      ]
     },
     "execution_count": 37,
     "metadata": {},
     "output_type": "execute_result"
    }
   ],
   "source": [
    "df[df['age_group']=='Senior'].shape"
   ]
  },
  {
   "cell_type": "code",
   "execution_count": 38,
   "id": "203e7bc9",
   "metadata": {},
   "outputs": [
    {
     "name": "stdout",
     "output_type": "stream",
     "text": [
      "Column RIAGENDR : [ 2.  1. nan]\n",
      "Column PAQ605 : [ 2.  1. nan  7.]\n",
      "Column DIQ010 : [ 2. nan  1.  3.]\n",
      "Column age_group : ['Adult' 'Senior']\n",
      "Column grp : [0. 1.]\n"
     ]
    }
   ],
   "source": [
    "for cols in df.columns:\n",
    "    if cols in ['SEQN', 'BMXBMI', 'LBXGLU', 'LBXGLT', 'LBXIN']:\n",
    "        continue\n",
    "    print(f\"Column {cols} : {df[cols].unique()}\")"
   ]
  },
  {
   "cell_type": "code",
   "execution_count": 39,
   "id": "f455d720",
   "metadata": {},
   "outputs": [],
   "source": [
    "df.drop(columns=['age_group'], inplace=True)"
   ]
  },
  {
   "cell_type": "markdown",
   "id": "0dda3542",
   "metadata": {},
   "source": [
    "# knn imputation"
   ]
  },
  {
   "cell_type": "code",
   "execution_count": 40,
   "id": "58da935d",
   "metadata": {},
   "outputs": [],
   "source": [
    "import pandas as pd\n",
    "from sklearn.preprocessing import StandardScaler\n",
    "\n",
    "# Step 1: Drop only the target column temporarily\n",
    "target_col = 'grp'\n",
    "cols_to_impute = [col for col in df.columns if col != target_col]\n",
    "\n",
    "X = df[cols_to_impute]\n",
    "\n",
    "# Step 2: Save non-numeric columns (if any), or columns not to scale\n",
    "non_numeric_cols = ['SEQN'] if 'SEQN' in df.columns else []\n",
    "X_numeric = X.drop(columns=non_numeric_cols)\n",
    "\n",
    "# Step 3: Median Imputation for numeric columns\n",
    "X_numeric_imputed = X_numeric.fillna(X_numeric.median(numeric_only=True))\n",
    "\n",
    "# Step 4: Scale numeric data\n",
    "scaler = StandardScaler()\n",
    "X_scaled = scaler.fit_transform(X_numeric_imputed)\n",
    "\n",
    "# Step 5: Build DataFrame back from scaled data\n",
    "df_knnimputed = pd.DataFrame(X_scaled, columns=X_numeric.columns)\n",
    "\n",
    "# Step 6: Mode Imputation for non-numeric columns (e.g., IDs or categoricals)\n",
    "for col in non_numeric_cols:\n",
    "    df_knnimputed[col] = df[col].fillna(df[col].mode(dropna=True)[0])\n",
    "\n",
    "# Step 7: Add back the target column\n",
    "df_knnimputed[target_col] = df[target_col].values\n"
   ]
  },
  {
   "cell_type": "code",
   "execution_count": 41,
   "id": "8cdedfa2",
   "metadata": {},
   "outputs": [
    {
     "data": {
      "text/plain": [
       "RIAGENDR    0\n",
       "PAQ605      0\n",
       "BMXBMI      0\n",
       "LBXGLU      0\n",
       "DIQ010      0\n",
       "LBXGLT      0\n",
       "LBXIN       0\n",
       "grp         0\n",
       "dtype: int64"
      ]
     },
     "execution_count": 41,
     "metadata": {},
     "output_type": "execute_result"
    }
   ],
   "source": [
    "df_knnimputed.isnull().sum()"
   ]
  },
  {
   "cell_type": "code",
   "execution_count": 42,
   "id": "3ac8a2b1",
   "metadata": {},
   "outputs": [
    {
     "name": "stdout",
     "output_type": "stream",
     "text": [
      "      RIAGENDR    PAQ605    BMXBMI    LBXGLU    DIQ010    LBXGLT     LBXIN  \\\n",
      "0     0.972708  0.434876  1.057583  0.632520 -0.082624  0.760613  0.312409   \n",
      "1     0.972708  0.434876 -1.049438 -0.626500 -0.082624 -0.761192 -0.821256   \n",
      "2    -1.028057  0.434876 -0.652661 -0.626500 -0.082624 -1.022073 -0.586528   \n",
      "3    -1.028057  0.434876  0.127210  0.272800 -0.082624 -0.674232  0.439511   \n",
      "4     0.972708 -2.076596  1.084946  0.212847 -0.082624 -0.739452 -0.096571   \n",
      "...        ...       ...       ...       ...       ...       ...       ...   \n",
      "1947  0.972708  0.434876  0.756580  0.032987 -0.082624 -0.913373 -0.546552   \n",
      "1948 -1.028057  0.434876  0.277711 -0.386687 -0.082624  2.021537  0.118682   \n",
      "1949 -1.028057  0.434876 -0.584252  0.212847 -0.082624  0.195371  0.978668   \n",
      "1950  0.972708  0.434876 -0.078019 -0.566546 -0.082624 -0.152470 -0.704404   \n",
      "1951 -1.028057  0.434876 -0.474796 -0.146873 -0.082624 -0.152470 -0.830481   \n",
      "\n",
      "      grp  \n",
      "0     0.0  \n",
      "1     0.0  \n",
      "2     0.0  \n",
      "3     0.0  \n",
      "4     0.0  \n",
      "...   ...  \n",
      "1947  0.0  \n",
      "1948  0.0  \n",
      "1949  0.0  \n",
      "1950  0.0  \n",
      "1951  0.0  \n",
      "\n",
      "[1952 rows x 8 columns]\n"
     ]
    }
   ],
   "source": [
    "print(df_knnimputed)"
   ]
  },
  {
   "cell_type": "code",
   "execution_count": 43,
   "id": "4943318b",
   "metadata": {},
   "outputs": [
    {
     "data": {
      "text/plain": [
       "<Axes: >"
      ]
     },
     "execution_count": 43,
     "metadata": {},
     "output_type": "execute_result"
    },
    {
     "data": {
      "image/png": "[encoded data removed]",
      "text/plain": [
       "<Figure size 640x480 with 2 Axes>"
      ]
     },
     "metadata": {},
     "output_type": "display_data"
    }
   ],
   "source": [
    "tempdf = df_knnimputed[[col for col in df_knnimputed.columns if col not in ['SEQN']]]\n",
    "sns.heatmap(tempdf.corr())"
   ]
  },
  {
   "cell_type": "code",
   "execution_count": 44,
   "id": "a3d9f8b8",
   "metadata": {},
   "outputs": [
    {
     "data": {
      "image/png": "[encoded data removed]",
      "text/plain": [
       "<Figure size 1200x600 with 1 Axes>"
      ]
     },
     "metadata": {},
     "output_type": "display_data"
    },
    {
     "data": {
      "image/png": "[encoded data removed]",
      "text/plain": [
       "<Figure size 1200x600 with 1 Axes>"
      ]
     },
     "metadata": {},
     "output_type": "display_data"
    }
   ],
   "source": [
    "# Melt the dataframe to long format\n",
    "df_melted = df_knnimputed.melt(var_name='Feature', value_name='Value')\n",
    "\n",
    "# Create the boxplot\n",
    "plt.figure(figsize=(12, 6))\n",
    "sns.boxplot(data=df_melted, x='Feature', y='Value')\n",
    "plt.xticks(rotation=45)\n",
    "plt.title(\"Box Plot for Each Column\")\n",
    "plt.tight_layout()\n",
    "plt.show()\n",
    "\n",
    "cols_with_outliers = ['BMXBMI', 'LBXGLU', 'LBXGLT', 'LBXIN']\n",
    "for col in cols_with_outliers:\n",
    "    df_knnimputed[col] = df_knnimputed[col].clip(lower=df_knnimputed[col].quantile(0.01), upper=df_knnimputed[col].quantile(0.99))\n",
    "\n",
    "# Melt the dataframe to long format\n",
    "df_melted = df_knnimputed.melt(var_name='Feature', value_name='Value')\n",
    "\n",
    "# Create the boxplot\n",
    "plt.figure(figsize=(12, 6))\n",
    "sns.boxplot(data=df_melted, x='Feature', y='Value')\n",
    "plt.xticks(rotation=45)\n",
    "plt.title(\"Box Plot for Each Column\")\n",
    "plt.tight_layout()\n",
    "plt.show()"
   ]
  },
  {
   "cell_type": "code",
   "execution_count": 45,
   "id": "98f728a7",
   "metadata": {},
   "outputs": [
    {
     "data": {
      "text/html": [
       "<div>\n",
       "<style scoped>\n",
       "    .dataframe tbody tr th:only-of-type {\n",
       "        vertical-align: middle;\n",
       "    }\n",
       "\n",
       "    .dataframe tbody tr th {\n",
       "        vertical-align: top;\n",
       "    }\n",
       "\n",
       "    .dataframe thead th {\n",
       "        text-align: right;\n",
       "    }\n",
       "</style>\n",
       "<table border=\"1\" class=\"dataframe\">\n",
       "  <thead>\n",
       "    <tr style=\"text-align: right;\">\n",
       "      <th></th>\n",
       "      <th>RIAGENDR</th>\n",
       "      <th>PAQ605</th>\n",
       "      <th>BMXBMI</th>\n",
       "      <th>LBXGLU</th>\n",
       "      <th>DIQ010</th>\n",
       "      <th>LBXGLT</th>\n",
       "      <th>LBXIN</th>\n",
       "      <th>grp</th>\n",
       "    </tr>\n",
       "  </thead>\n",
       "  <tbody>\n",
       "    <tr>\n",
       "      <th>0</th>\n",
       "      <td>0.972708</td>\n",
       "      <td>0.434876</td>\n",
       "      <td>1.057583</td>\n",
       "      <td>0.632520</td>\n",
       "      <td>-0.082624</td>\n",
       "      <td>0.760613</td>\n",
       "      <td>0.312409</td>\n",
       "      <td>0.0</td>\n",
       "    </tr>\n",
       "    <tr>\n",
       "      <th>1</th>\n",
       "      <td>0.972708</td>\n",
       "      <td>0.434876</td>\n",
       "      <td>-1.049438</td>\n",
       "      <td>-0.626500</td>\n",
       "      <td>-0.082624</td>\n",
       "      <td>-0.761192</td>\n",
       "      <td>-0.821256</td>\n",
       "      <td>0.0</td>\n",
       "    </tr>\n",
       "    <tr>\n",
       "      <th>2</th>\n",
       "      <td>-1.028057</td>\n",
       "      <td>0.434876</td>\n",
       "      <td>-0.652661</td>\n",
       "      <td>-0.626500</td>\n",
       "      <td>-0.082624</td>\n",
       "      <td>-1.022073</td>\n",
       "      <td>-0.586528</td>\n",
       "      <td>0.0</td>\n",
       "    </tr>\n",
       "    <tr>\n",
       "      <th>3</th>\n",
       "      <td>-1.028057</td>\n",
       "      <td>0.434876</td>\n",
       "      <td>0.127210</td>\n",
       "      <td>0.272800</td>\n",
       "      <td>-0.082624</td>\n",
       "      <td>-0.674232</td>\n",
       "      <td>0.439511</td>\n",
       "      <td>0.0</td>\n",
       "    </tr>\n",
       "    <tr>\n",
       "      <th>4</th>\n",
       "      <td>0.972708</td>\n",
       "      <td>-2.076596</td>\n",
       "      <td>1.084946</td>\n",
       "      <td>0.212847</td>\n",
       "      <td>-0.082624</td>\n",
       "      <td>-0.739452</td>\n",
       "      <td>-0.096571</td>\n",
       "      <td>0.0</td>\n",
       "    </tr>\n",
       "    <tr>\n",
       "      <th>...</th>\n",
       "      <td>...</td>\n",
       "      <td>...</td>\n",
       "      <td>...</td>\n",
       "      <td>...</td>\n",
       "      <td>...</td>\n",
       "      <td>...</td>\n",
       "      <td>...</td>\n",
       "      <td>...</td>\n",
       "    </tr>\n",
       "    <tr>\n",
       "      <th>1947</th>\n",
       "      <td>0.972708</td>\n",
       "      <td>0.434876</td>\n",
       "      <td>0.756580</td>\n",
       "      <td>0.032987</td>\n",
       "      <td>-0.082624</td>\n",
       "      <td>-0.913373</td>\n",
       "      <td>-0.546552</td>\n",
       "      <td>0.0</td>\n",
       "    </tr>\n",
       "    <tr>\n",
       "      <th>1948</th>\n",
       "      <td>-1.028057</td>\n",
       "      <td>0.434876</td>\n",
       "      <td>0.277711</td>\n",
       "      <td>-0.386687</td>\n",
       "      <td>-0.082624</td>\n",
       "      <td>2.021537</td>\n",
       "      <td>0.118682</td>\n",
       "      <td>0.0</td>\n",
       "    </tr>\n",
       "    <tr>\n",
       "      <th>1949</th>\n",
       "      <td>-1.028057</td>\n",
       "      <td>0.434876</td>\n",
       "      <td>-0.584252</td>\n",
       "      <td>0.212847</td>\n",
       "      <td>-0.082624</td>\n",
       "      <td>0.195371</td>\n",
       "      <td>0.978668</td>\n",
       "      <td>0.0</td>\n",
       "    </tr>\n",
       "    <tr>\n",
       "      <th>1950</th>\n",
       "      <td>0.972708</td>\n",
       "      <td>0.434876</td>\n",
       "      <td>-0.078019</td>\n",
       "      <td>-0.566546</td>\n",
       "      <td>-0.082624</td>\n",
       "      <td>-0.152470</td>\n",
       "      <td>-0.704404</td>\n",
       "      <td>0.0</td>\n",
       "    </tr>\n",
       "    <tr>\n",
       "      <th>1951</th>\n",
       "      <td>-1.028057</td>\n",
       "      <td>0.434876</td>\n",
       "      <td>-0.474796</td>\n",
       "      <td>-0.146873</td>\n",
       "      <td>-0.082624</td>\n",
       "      <td>-0.152470</td>\n",
       "      <td>-0.830481</td>\n",
       "      <td>0.0</td>\n",
       "    </tr>\n",
       "  </tbody>\n",
       "</table>\n",
       "<p>1952 rows × 8 columns</p>\n",
       "</div>"
      ],
      "text/plain": [
       "      RIAGENDR    PAQ605    BMXBMI    LBXGLU    DIQ010    LBXGLT     LBXIN  \\\n",
       "0     0.972708  0.434876  1.057583  0.632520 -0.082624  0.760613  0.312409   \n",
       "1     0.972708  0.434876 -1.049438 -0.626500 -0.082624 -0.761192 -0.821256   \n",
       "2    -1.028057  0.434876 -0.652661 -0.626500 -0.082624 -1.022073 -0.586528   \n",
       "3    -1.028057  0.434876  0.127210  0.272800 -0.082624 -0.674232  0.439511   \n",
       "4     0.972708 -2.076596  1.084946  0.212847 -0.082624 -0.739452 -0.096571   \n",
       "...        ...       ...       ...       ...       ...       ...       ...   \n",
       "1947  0.972708  0.434876  0.756580  0.032987 -0.082624 -0.913373 -0.546552   \n",
       "1948 -1.028057  0.434876  0.277711 -0.386687 -0.082624  2.021537  0.118682   \n",
       "1949 -1.028057  0.434876 -0.584252  0.212847 -0.082624  0.195371  0.978668   \n",
       "1950  0.972708  0.434876 -0.078019 -0.566546 -0.082624 -0.152470 -0.704404   \n",
       "1951 -1.028057  0.434876 -0.474796 -0.146873 -0.082624 -0.152470 -0.830481   \n",
       "\n",
       "      grp  \n",
       "0     0.0  \n",
       "1     0.0  \n",
       "2     0.0  \n",
       "3     0.0  \n",
       "4     0.0  \n",
       "...   ...  \n",
       "1947  0.0  \n",
       "1948  0.0  \n",
       "1949  0.0  \n",
       "1950  0.0  \n",
       "1951  0.0  \n",
       "\n",
       "[1952 rows x 8 columns]"
      ]
     },
     "execution_count": 45,
     "metadata": {},
     "output_type": "execute_result"
    }
   ],
   "source": [
    "data = df_knnimputed.copy()\n",
    "\n",
    "df = df_knnimputed.copy()\n",
    "\n",
    "df_knnimputed"
   ]
  },
  {
   "cell_type": "code",
   "execution_count": 46,
   "id": "07b00e6b",
   "metadata": {},
   "outputs": [
    {
     "name": "stdout",
     "output_type": "stream",
     "text": [
      "\n",
      "🔎 Starting degree=1, 10 random trials\n",
      "-- Trial 1/10: {'clf__solver': 'lbfgs', 'clf__penalty': 'l2', 'clf__class_weight': 'balanced', 'clf__C': 10}\n",
      "-- Trial 2/10: {'clf__solver': 'lbfgs', 'clf__penalty': 'l2', 'clf__class_weight': 'balanced', 'clf__C': 1}\n",
      "-- Trial 3/10: {'clf__solver': 'saga', 'clf__penalty': 'l1', 'clf__class_weight': 'balanced', 'clf__C': 0.1}\n",
      "-- Trial 4/10: {'clf__solver': 'lbfgs', 'clf__penalty': 'l2', 'clf__class_weight': 'balanced', 'clf__C': 0.1}\n",
      "-- Trial 5/10: {'clf__solver': 'saga', 'clf__penalty': 'l2', 'clf__class_weight': 'balanced', 'clf__C': 10}\n",
      "-- Trial 6/10: {'clf__solver': 'saga', 'clf__penalty': 'l1', 'clf__class_weight': 'balanced', 'clf__C': 1}\n",
      "-- Trial 7/10: {'clf__solver': 'saga', 'clf__penalty': 'l2', 'clf__class_weight': 'balanced', 'clf__C': 0.1}\n",
      "-- Trial 8/10: {'clf__solver': 'lbfgs', 'clf__penalty': 'l2', 'clf__class_weight': 'balanced', 'clf__C': 100}\n",
      "-- Trial 9/10: {'clf__solver': 'saga', 'clf__penalty': 'l1', 'clf__class_weight': 'balanced', 'clf__C': 10}\n",
      "-- Trial 10/10: {'clf__solver': 'saga', 'clf__penalty': 'l2', 'clf__class_weight': 'balanced', 'clf__C': 100}\n",
      "✅ Completed: 10/10 trials for degree=1\n"
     ]
    }
   ],
   "source": [
    "import os\n",
    "import json\n",
    "import joblib\n",
    "import numpy as np\n",
    "import pandas as pd\n",
    "\n",
    "from imblearn.pipeline import Pipeline as ImbPipeline\n",
    "from imblearn.over_sampling import SMOTE\n",
    "\n",
    "from sklearn.preprocessing import StandardScaler, PolynomialFeatures\n",
    "from sklearn.linear_model import LogisticRegression\n",
    "from sklearn.model_selection import train_test_split, ParameterSampler\n",
    "from sklearn.metrics import classification_report\n",
    "from sklearn.utils import shuffle\n",
    "\n",
    "# =============================\n",
    "# CONFIGURATION\n",
    "# =============================\n",
    "degrees = [1]                      # Polynomial degrees to try\n",
    "n_iter = 10                          # Trials per degree\n",
    "random_state = 42\n",
    "output_dir = \"random_search_outputs\"\n",
    "max_iter = 10000\n",
    "# =============================\n",
    "\n",
    "# Load your preprocessed DataFrame (already KNN-imputed)\n",
    "df = df_knnimputed.drop(columns=['SEQN', 'age_group'], errors='ignore')\n",
    "\n",
    "# Shuffle and prepare data\n",
    "y = df['grp']\n",
    "X = df.drop(columns=['grp'])\n",
    "X, y = shuffle(X, y, random_state=random_state)\n",
    "\n",
    "# Stratified split: train (70%), validation (15%), test (15%)\n",
    "X_temp, X_test, y_temp, y_test = train_test_split(\n",
    "    X, y, test_size=0.15, random_state=random_state, stratify=y\n",
    ")\n",
    "\n",
    "X_train, X_valid, y_train, y_valid = train_test_split(\n",
    "    X_temp, y_temp, test_size=0.1765, random_state=random_state, stratify=y_temp\n",
    ")\n",
    "# 0.1765 * 0.85 ≈ 0.15, so valid = 15% of total\n",
    "\n",
    "# Define parameter search space\n",
    "param_dist = [\n",
    "    {\n",
    "        'clf__solver': ['saga'],\n",
    "        'clf__penalty': ['l1', 'l2'],\n",
    "        'clf__C': [0.1, 1, 10, 100],\n",
    "        'clf__class_weight': ['balanced']  # Enforce class weighting due to imbalance\n",
    "    },\n",
    "    {\n",
    "        'clf__solver': ['lbfgs'],\n",
    "        'clf__penalty': ['l2'],  # lbfgs only supports l2\n",
    "        'clf__C': [0.1, 1, 10, 100],\n",
    "        'clf__class_weight': ['balanced']\n",
    "    }\n",
    "]\n",
    "\n",
    "# Create output directories\n",
    "os.makedirs(output_dir, exist_ok=True)\n",
    "\n",
    "for degree in degrees:\n",
    "    deg_dir = os.path.join(output_dir, f\"degree_{degree}\")\n",
    "    models_dir = os.path.join(deg_dir, \"models\")\n",
    "    reports_dir = os.path.join(deg_dir, \"reports\")\n",
    "    prog_file = os.path.join(deg_dir, \"progress.json\")\n",
    "\n",
    "    os.makedirs(models_dir, exist_ok=True)\n",
    "    os.makedirs(reports_dir, exist_ok=True)\n",
    "\n",
    "    # Load or initialize progress tracking\n",
    "    if os.path.exists(prog_file):\n",
    "        with open(prog_file, 'r') as f:\n",
    "            completed = set(json.load(f))\n",
    "    else:\n",
    "        completed = set()\n",
    "\n",
    "    # Generate randomized parameter combinations\n",
    "    sampler = list(ParameterSampler(param_dist, n_iter=n_iter, random_state=random_state))\n",
    "\n",
    "    print(f\"\\n🔎 Starting degree={degree}, {n_iter} random trials\")\n",
    "\n",
    "    try:\n",
    "        for i, params in enumerate(sampler):\n",
    "            if i in completed:\n",
    "                continue\n",
    "\n",
    "            print(f\"-- Trial {i + 1}/{n_iter}: {params}\")\n",
    "\n",
    "            # Build pipeline with SMOTE to fix class imbalance\n",
    "            pipe = ImbPipeline([\n",
    "                ('poly', PolynomialFeatures(degree=degree, include_bias=False)),\n",
    "                ('scaler', StandardScaler()),\n",
    "                ('smote', SMOTE(random_state=random_state)),   # <-- SMOTE oversampling\n",
    "                ('clf', LogisticRegression(max_iter=max_iter, n_jobs=-1, tol=1e-4, warm_start=True))\n",
    "            ])\n",
    "            pipe.set_params(**params)\n",
    "\n",
    "            # Train and evaluate on validation set\n",
    "            pipe.fit(X_train, y_train)\n",
    "            y_valid_pred = pipe.predict(X_valid)\n",
    "            report = classification_report(y_valid, y_valid_pred)\n",
    "\n",
    "            # Save model\n",
    "            model_path = os.path.join(models_dir, f\"model_{i}.pkl\")\n",
    "            joblib.dump(pipe, model_path)\n",
    "\n",
    "            # Save classification report\n",
    "            report_path = os.path.join(reports_dir, f\"report_{i}.txt\")\n",
    "            with open(report_path, 'w') as f:\n",
    "                f.write(\"Parameters:\\n\")\n",
    "                f.write(json.dumps(params, indent=2))\n",
    "                f.write(\"\\n\\nClassification Report (Validation):\\n\")\n",
    "                f.write(report)\n",
    "\n",
    "            # Update progress\n",
    "            completed.add(i)\n",
    "            with open(prog_file, 'w') as f:\n",
    "                json.dump(sorted(completed), f)\n",
    "\n",
    "    except KeyboardInterrupt:\n",
    "        print(\"⚠️ Interrupted by user. Progress saved.\")\n",
    "\n",
    "    print(f\"✅ Completed: {len(completed)}/{n_iter} trials for degree={degree}\")\n"
   ]
  },
  {
   "cell_type": "code",
   "execution_count": 47,
   "id": "af55844f",
   "metadata": {},
   "outputs": [
    {
     "name": "stdout",
     "output_type": "stream",
     "text": [
      "\n",
      "🔍 Evaluating models for degree 1...\n",
      "✅ Best model for degree 1:\n",
      "Path: random_search_outputs\\degree_1\\models\\model_2.pkl\n",
      "Validation Accuracy: 0.7440\n"
     ]
    }
   ],
   "source": [
    "from sklearn.metrics import accuracy_score\n",
    "\n",
    "# Select best model from all saved models (per degree)\n",
    "for degree in degrees:\n",
    "    deg_dir = os.path.join(output_dir, f\"degree_{degree}\")\n",
    "    models_dir = os.path.join(deg_dir, \"models\")\n",
    "\n",
    "    print(f\"\\n🔍 Evaluating models for degree {degree}...\")\n",
    "\n",
    "    best_model = None\n",
    "    best_score = -np.inf\n",
    "    best_model_path = None\n",
    "\n",
    "    for filename in os.listdir(models_dir):\n",
    "        if filename.endswith(\".pkl\"):\n",
    "            model_path = os.path.join(models_dir, filename)\n",
    "            model = joblib.load(model_path)\n",
    "\n",
    "            # Predict on validation set\n",
    "            y_pred = model.predict(X_valid)\n",
    "            score = accuracy_score(y_valid, y_pred)  # or use f1_score, etc.\n",
    "\n",
    "            if score > best_score:\n",
    "                best_score = score\n",
    "                best_model = model\n",
    "                best_model_path = model_path\n",
    "\n",
    "    print(f\"✅ Best model for degree {degree}:\")\n",
    "    print(f\"Path: {best_model_path}\")\n",
    "    print(f\"Validation Accuracy: {best_score:.4f}\")\n",
    "\n",
    "    # Optionally save best model separately\n",
    "    joblib.dump(best_model, os.path.join(deg_dir, \"best_model.pkl\"))\n"
   ]
  },
  {
   "cell_type": "code",
   "execution_count": null,
   "id": "0ef96089",
   "metadata": {},
   "outputs": [],
   "source": []
  },
  {
   "cell_type": "code",
   "execution_count": 48,
   "id": "d5f05a87",
   "metadata": {},
   "outputs": [
    {
     "data": {
      "text/html": [
       "<div>\n",
       "<style scoped>\n",
       "    .dataframe tbody tr th:only-of-type {\n",
       "        vertical-align: middle;\n",
       "    }\n",
       "\n",
       "    .dataframe tbody tr th {\n",
       "        vertical-align: top;\n",
       "    }\n",
       "\n",
       "    .dataframe thead th {\n",
       "        text-align: right;\n",
       "    }\n",
       "</style>\n",
       "<table border=\"1\" class=\"dataframe\">\n",
       "  <thead>\n",
       "    <tr style=\"text-align: right;\">\n",
       "      <th></th>\n",
       "      <th>RIAGENDR</th>\n",
       "      <th>PAQ605</th>\n",
       "      <th>BMXBMI</th>\n",
       "      <th>LBXGLU</th>\n",
       "      <th>DIQ010</th>\n",
       "      <th>LBXGLT</th>\n",
       "      <th>LBXIN</th>\n",
       "    </tr>\n",
       "  </thead>\n",
       "  <tbody>\n",
       "    <tr>\n",
       "      <th>0</th>\n",
       "      <td>-1.028057</td>\n",
       "      <td>-2.076596</td>\n",
       "      <td>0.578714</td>\n",
       "      <td>-0.206827</td>\n",
       "      <td>-0.082624</td>\n",
       "      <td>0.434512</td>\n",
       "      <td>0.332909</td>\n",
       "    </tr>\n",
       "    <tr>\n",
       "      <th>1</th>\n",
       "      <td>0.972708</td>\n",
       "      <td>0.434876</td>\n",
       "      <td>-0.228521</td>\n",
       "      <td>0.032987</td>\n",
       "      <td>-0.082624</td>\n",
       "      <td>0.564952</td>\n",
       "      <td>0.348284</td>\n",
       "    </tr>\n",
       "    <tr>\n",
       "      <th>2</th>\n",
       "      <td>-1.028057</td>\n",
       "      <td>0.434876</td>\n",
       "      <td>0.086164</td>\n",
       "      <td>0.452660</td>\n",
       "      <td>-0.082624</td>\n",
       "      <td>0.456252</td>\n",
       "      <td>-0.311824</td>\n",
       "    </tr>\n",
       "    <tr>\n",
       "      <th>3</th>\n",
       "      <td>0.972708</td>\n",
       "      <td>-2.076596</td>\n",
       "      <td>-0.803163</td>\n",
       "      <td>-0.386687</td>\n",
       "      <td>-0.082624</td>\n",
       "      <td>-0.087250</td>\n",
       "      <td>0.027455</td>\n",
       "    </tr>\n",
       "    <tr>\n",
       "      <th>4</th>\n",
       "      <td>-1.028057</td>\n",
       "      <td>-2.076596</td>\n",
       "      <td>-0.447432</td>\n",
       "      <td>-0.506593</td>\n",
       "      <td>-0.082624</td>\n",
       "      <td>-0.217690</td>\n",
       "      <td>-0.896081</td>\n",
       "    </tr>\n",
       "    <tr>\n",
       "      <th>...</th>\n",
       "      <td>...</td>\n",
       "      <td>...</td>\n",
       "      <td>...</td>\n",
       "      <td>...</td>\n",
       "      <td>...</td>\n",
       "      <td>...</td>\n",
       "      <td>...</td>\n",
       "    </tr>\n",
       "    <tr>\n",
       "      <th>307</th>\n",
       "      <td>0.972708</td>\n",
       "      <td>0.434876</td>\n",
       "      <td>-0.830527</td>\n",
       "      <td>-1.046173</td>\n",
       "      <td>-0.082624</td>\n",
       "      <td>-0.717712</td>\n",
       "      <td>-0.955532</td>\n",
       "    </tr>\n",
       "    <tr>\n",
       "      <th>308</th>\n",
       "      <td>0.972708</td>\n",
       "      <td>-2.076596</td>\n",
       "      <td>0.729216</td>\n",
       "      <td>-0.266780</td>\n",
       "      <td>-0.082624</td>\n",
       "      <td>-0.826412</td>\n",
       "      <td>-0.563977</td>\n",
       "    </tr>\n",
       "    <tr>\n",
       "      <th>309</th>\n",
       "      <td>0.972708</td>\n",
       "      <td>0.434876</td>\n",
       "      <td>1.851136</td>\n",
       "      <td>-0.506593</td>\n",
       "      <td>-0.082624</td>\n",
       "      <td>0.738873</td>\n",
       "      <td>0.374935</td>\n",
       "    </tr>\n",
       "    <tr>\n",
       "      <th>310</th>\n",
       "      <td>0.972708</td>\n",
       "      <td>0.434876</td>\n",
       "      <td>-0.748435</td>\n",
       "      <td>-1.046173</td>\n",
       "      <td>-0.082624</td>\n",
       "      <td>-0.478571</td>\n",
       "      <td>-1.073409</td>\n",
       "    </tr>\n",
       "    <tr>\n",
       "      <th>311</th>\n",
       "      <td>-1.028057</td>\n",
       "      <td>0.434876</td>\n",
       "      <td>-1.624080</td>\n",
       "      <td>-0.206827</td>\n",
       "      <td>-0.082624</td>\n",
       "      <td>1.782396</td>\n",
       "      <td>-0.337449</td>\n",
       "    </tr>\n",
       "  </tbody>\n",
       "</table>\n",
       "<p>312 rows × 7 columns</p>\n",
       "</div>"
      ],
      "text/plain": [
       "     RIAGENDR    PAQ605    BMXBMI    LBXGLU    DIQ010    LBXGLT     LBXIN\n",
       "0   -1.028057 -2.076596  0.578714 -0.206827 -0.082624  0.434512  0.332909\n",
       "1    0.972708  0.434876 -0.228521  0.032987 -0.082624  0.564952  0.348284\n",
       "2   -1.028057  0.434876  0.086164  0.452660 -0.082624  0.456252 -0.311824\n",
       "3    0.972708 -2.076596 -0.803163 -0.386687 -0.082624 -0.087250  0.027455\n",
       "4   -1.028057 -2.076596 -0.447432 -0.506593 -0.082624 -0.217690 -0.896081\n",
       "..        ...       ...       ...       ...       ...       ...       ...\n",
       "307  0.972708  0.434876 -0.830527 -1.046173 -0.082624 -0.717712 -0.955532\n",
       "308  0.972708 -2.076596  0.729216 -0.266780 -0.082624 -0.826412 -0.563977\n",
       "309  0.972708  0.434876  1.851136 -0.506593 -0.082624  0.738873  0.374935\n",
       "310  0.972708  0.434876 -0.748435 -1.046173 -0.082624 -0.478571 -1.073409\n",
       "311 -1.028057  0.434876 -1.624080 -0.206827 -0.082624  1.782396 -0.337449\n",
       "\n",
       "[312 rows x 7 columns]"
      ]
     },
     "execution_count": 48,
     "metadata": {},
     "output_type": "execute_result"
    }
   ],
   "source": [
    "test_data = pd.read_csv('data/Test_Data.csv')\n",
    "test_data.drop(columns=['SEQN'], inplace=True)\n",
    "test_cols = test_data.columns\n",
    "test_data = pd.DataFrame(scaler.transform(test_data), columns=test_cols)\n",
    "test_data"
   ]
  },
  {
   "cell_type": "code",
   "execution_count": 49,
   "id": "06781990",
   "metadata": {},
   "outputs": [
    {
     "data": {
      "text/plain": [
       "RIAGENDR    2\n",
       "PAQ605      1\n",
       "BMXBMI      1\n",
       "LBXGLU      1\n",
       "DIQ010      1\n",
       "LBXGLT      2\n",
       "LBXIN       1\n",
       "dtype: int64"
      ]
     },
     "execution_count": 49,
     "metadata": {},
     "output_type": "execute_result"
    }
   ],
   "source": [
    "test_data.isnull().sum()"
   ]
  },
  {
   "cell_type": "code",
   "execution_count": 50,
   "id": "5908535c",
   "metadata": {},
   "outputs": [
    {
     "data": {
      "text/plain": [
       "RIAGENDR    0\n",
       "PAQ605      0\n",
       "BMXBMI      0\n",
       "LBXGLU      0\n",
       "DIQ010      0\n",
       "LBXGLT      0\n",
       "LBXIN       0\n",
       "dtype: int64"
      ]
     },
     "execution_count": 50,
     "metadata": {},
     "output_type": "execute_result"
    }
   ],
   "source": [
    "from sklearn.impute import KNNImputer\n",
    "import pandas as pd\n",
    "\n",
    "# Initialize the KNN Imputer\n",
    "imputer = KNNImputer(n_neighbors=10)\n",
    "\n",
    "# Exclude 'SEQN' and 'age_group' columns for imputation, but keep them in the final result\n",
    "cols_to_impute = [col for col in test_data.columns if col not in ['SEQN', 'age_group']]\n",
    "\n",
    "# Perform the imputation on the selected columns\n",
    "df_imputed_values = imputer.fit_transform(test_data[cols_to_impute])\n",
    "\n",
    "# Create a new DataFrame with imputed values for the selected columns\n",
    "test_data = pd.DataFrame(df_imputed_values, columns=cols_to_impute)  \n",
    "# Show the final imputed DataFrame\n",
    "test_data.isnull().sum()\n"
   ]
  },
  {
   "cell_type": "code",
   "execution_count": 51,
   "id": "67d52606",
   "metadata": {},
   "outputs": [
    {
     "data": {
      "text/plain": [
       "array([0, 1, 1, 0, 0, 1, 1, 1, 0, 0, 1, 1, 0, 1, 1, 0, 1, 1, 0, 0, 1, 0,\n",
       "       1, 0, 0, 0, 0, 0, 1, 0, 0, 1, 0, 1, 1, 0, 0, 1, 0, 0, 0, 0, 1, 0,\n",
       "       0, 0, 0, 1, 0, 1, 1, 0, 0, 1, 1, 1, 0, 1, 1, 1, 0, 0, 0, 0, 1, 0,\n",
       "       0, 1, 0, 1, 0, 0, 0, 0, 0, 0, 0, 0, 0, 0, 0, 0, 0, 0, 0, 0, 1, 0,\n",
       "       0, 1, 1, 1, 0, 0, 0, 1, 1, 0, 1, 0, 1, 1, 1, 0, 0, 0, 0, 0, 1, 0,\n",
       "       0, 0, 0, 0, 0, 0, 0, 0, 1, 1, 0, 0, 1, 0, 0, 0, 0, 1, 1, 0, 0, 0,\n",
       "       1, 0, 0, 0, 0, 1, 0, 0, 1, 1, 0, 0, 1, 0, 0, 0, 0, 1, 1, 0, 0, 0,\n",
       "       0, 1, 0, 0, 0, 0, 0, 1, 1, 1, 0, 1, 1, 1, 0, 0, 0, 0, 1, 1, 1, 0,\n",
       "       0, 0, 1, 0, 1, 0, 0, 1, 1, 0, 0, 1, 0, 0, 0, 0, 0, 0, 0, 0, 0, 0,\n",
       "       0, 1, 0, 0, 0, 0, 0, 0, 0, 0, 0, 0, 0, 0, 0, 0, 0, 0, 0, 1, 0, 1,\n",
       "       0, 0, 1, 0, 0, 0, 1, 0, 0, 1, 0, 1, 0, 0, 0, 0, 0, 0, 0, 0, 0, 0,\n",
       "       0, 0, 1, 0, 0, 0, 0, 1, 0, 0, 0, 0, 1, 0, 0, 0, 1, 0, 1, 0, 0, 1,\n",
       "       0, 0, 0, 0, 1, 1, 0, 0, 0, 0, 0, 0, 0, 0, 0, 0, 0, 0, 1, 0, 0, 0,\n",
       "       0, 1, 0, 0, 1, 0, 0, 1, 1, 0, 0, 0, 0, 0, 0, 0, 0, 0, 0, 1, 1, 0,\n",
       "       0, 0, 0, 1])"
      ]
     },
     "execution_count": 51,
     "metadata": {},
     "output_type": "execute_result"
    }
   ],
   "source": [
    "prediction = best_model.predict(test_data)\n",
    "prediction = prediction.astype(int)\n",
    "prediction"
   ]
  },
  {
   "cell_type": "code",
   "execution_count": 52,
   "id": "6c7b9922",
   "metadata": {},
   "outputs": [],
   "source": [
    "prediction = pd.DataFrame({\n",
    "    'age_group': prediction\n",
    "})\n",
    "prediction.to_csv('submission.csv', index=False)"
   ]
  },
  {
   "cell_type": "code",
   "execution_count": null,
   "id": "49d11ee2",
   "metadata": {},
   "outputs": [],
   "source": []
  },
  {
   "cell_type": "code",
   "execution_count": 53,
   "id": "948f45e4",
   "metadata": {},
   "outputs": [],
   "source": [
    "df = data.copy()"
   ]
  },
  {
   "cell_type": "code",
   "execution_count": 54,
   "id": "513de953",
   "metadata": {},
   "outputs": [
    {
     "data": {
      "text/plain": [
       "RIAGENDR    0\n",
       "PAQ605      0\n",
       "BMXBMI      0\n",
       "LBXGLU      0\n",
       "DIQ010      0\n",
       "LBXGLT      0\n",
       "LBXIN       0\n",
       "grp         0\n",
       "dtype: int64"
      ]
     },
     "execution_count": 54,
     "metadata": {},
     "output_type": "execute_result"
    }
   ],
   "source": [
    "df.isnull().sum()"
   ]
  },
  {
   "cell_type": "code",
   "execution_count": 55,
   "id": "13bd5bfc",
   "metadata": {},
   "outputs": [
    {
     "data": {
      "text/plain": [
       "RIAGENDR    0\n",
       "PAQ605      0\n",
       "BMXBMI      0\n",
       "LBXGLU      0\n",
       "DIQ010      0\n",
       "LBXGLT      0\n",
       "LBXIN       0\n",
       "grp         0\n",
       "dtype: int64"
      ]
     },
     "execution_count": 55,
     "metadata": {},
     "output_type": "execute_result"
    }
   ],
   "source": [
    "dfrf = data.copy()\n",
    "# dfrf.drop(columns=['SEQN'], inplace=True)\n",
    "dfrf.isnull().sum()"
   ]
  },
  {
   "cell_type": "code",
   "execution_count": null,
   "id": "06408511",
   "metadata": {},
   "outputs": [],
   "source": []
  },
  {
   "cell_type": "code",
   "execution_count": null,
   "id": "8b76e004",
   "metadata": {},
   "outputs": [],
   "source": []
  },
  {
   "cell_type": "code",
   "execution_count": 56,
   "id": "b9960d72",
   "metadata": {},
   "outputs": [
    {
     "name": "stdout",
     "output_type": "stream",
     "text": [
      "Index(['RIAGENDR', 'PAQ605', 'BMXBMI', 'LBXGLU', 'DIQ010', 'LBXGLT', 'LBXIN'], dtype='object')\n",
      "\n",
      "🔎 Starting Random Forest with 10 random trials\n",
      "-- Trial 1/10: {'clf__n_estimators': 300, 'clf__min_samples_split': 2, 'clf__min_samples_leaf': 1, 'clf__max_depth': None, 'clf__class_weight': 'balanced_subsample'}\n",
      "-- Trial 2/10: {'clf__n_estimators': 100, 'clf__min_samples_split': 15, 'clf__min_samples_leaf': 4, 'clf__max_depth': None, 'clf__class_weight': 'balanced_subsample'}\n",
      "-- Trial 3/10: {'clf__n_estimators': 100, 'clf__min_samples_split': 25, 'clf__min_samples_leaf': 2, 'clf__max_depth': 20, 'clf__class_weight': 'balanced'}\n",
      "-- Trial 4/10: {'clf__n_estimators': 100, 'clf__min_samples_split': 2, 'clf__min_samples_leaf': 4, 'clf__max_depth': 5, 'clf__class_weight': 'balanced'}\n",
      "-- Trial 5/10: {'clf__n_estimators': 200, 'clf__min_samples_split': 15, 'clf__min_samples_leaf': 1, 'clf__max_depth': None, 'clf__class_weight': 'balanced_subsample'}\n",
      "-- Trial 6/10: {'clf__n_estimators': 200, 'clf__min_samples_split': 10, 'clf__min_samples_leaf': 2, 'clf__max_depth': 50, 'clf__class_weight': 'balanced'}\n",
      "-- Trial 7/10: {'clf__n_estimators': 200, 'clf__min_samples_split': 15, 'clf__min_samples_leaf': 1, 'clf__max_depth': 20, 'clf__class_weight': 'balanced_subsample'}\n",
      "-- Trial 8/10: {'clf__n_estimators': 100, 'clf__min_samples_split': 25, 'clf__min_samples_leaf': 4, 'clf__max_depth': None, 'clf__class_weight': 'balanced_subsample'}\n",
      "-- Trial 9/10: {'clf__n_estimators': 200, 'clf__min_samples_split': 25, 'clf__min_samples_leaf': 4, 'clf__max_depth': 5, 'clf__class_weight': 'balanced_subsample'}\n",
      "-- Trial 10/10: {'clf__n_estimators': 100, 'clf__min_samples_split': 25, 'clf__min_samples_leaf': 2, 'clf__max_depth': 10, 'clf__class_weight': 'balanced_subsample'}\n",
      "✅ Completed: 10/10 trials.\n"
     ]
    }
   ],
   "source": [
    "import os\n",
    "import json\n",
    "import joblib\n",
    "import numpy as np\n",
    "import pandas as pd\n",
    "\n",
    "from imblearn.pipeline import Pipeline as ImbPipeline\n",
    "from imblearn.over_sampling import SMOTE\n",
    "\n",
    "from sklearn.ensemble import RandomForestClassifier\n",
    "from sklearn.preprocessing import StandardScaler\n",
    "from sklearn.model_selection import train_test_split, ParameterSampler\n",
    "from sklearn.metrics import classification_report\n",
    "from sklearn.utils import shuffle\n",
    "\n",
    "# =============================\n",
    "# CONFIGURATION\n",
    "# =============================\n",
    "n_iter = 10                          # Number of random trials\n",
    "random_state = 42\n",
    "output_dir = \"random_search_rf_outputs\"\n",
    "# =============================\n",
    "\n",
    "# Load your preprocessed DataFrame (already KNN-imputed)\n",
    "# df = df.drop(columns=['SEQN'], errors='ignore')  # Drop SEQN\n",
    "# df['grp'] = df['age_group']  # Assuming 'grp' is target\n",
    "# df = df.drop(columns=['age_group'])\n",
    "\n",
    "# Shuffle and prepare data\n",
    "y = dfrf['grp']\n",
    "X = dfrf.drop(columns=['grp'])\n",
    "X, y = shuffle(X, y, random_state=random_state)\n",
    "\n",
    "print(X.columns)\n",
    "\n",
    "# Stratified split: train (70%), validation (15%), test (15%)\n",
    "X_temp, X_test, y_temp, y_test = train_test_split(\n",
    "    X, y, test_size=0.15, random_state=random_state, stratify=y\n",
    ")\n",
    "X_train, X_valid, y_train, y_valid = train_test_split(\n",
    "    X_temp, y_temp, test_size=0.1765, random_state=random_state, stratify=y_temp\n",
    ")\n",
    "\n",
    "# Define Random Forest hyperparameter search space\n",
    "param_dist = {\n",
    "    'clf__n_estimators': [100, 200, 300],\n",
    "    'clf__max_depth': [5, 10, 20, 50, None],\n",
    "    'clf__min_samples_split': [2, 5, 10, 15, 25],\n",
    "    'clf__min_samples_leaf': [1, 2, 4],\n",
    "    'clf__class_weight': ['balanced', 'balanced_subsample']\n",
    "}\n",
    "\n",
    "# Create output directories\n",
    "os.makedirs(output_dir, exist_ok=True)\n",
    "models_dir = os.path.join(output_dir, \"models\")\n",
    "reports_dir = os.path.join(output_dir, \"reports\")\n",
    "prog_file = os.path.join(output_dir, \"progress.json\")\n",
    "os.makedirs(models_dir, exist_ok=True)\n",
    "os.makedirs(reports_dir, exist_ok=True)\n",
    "\n",
    "# Load or initialize progress tracking\n",
    "if os.path.exists(prog_file):\n",
    "    with open(prog_file, 'r') as f:\n",
    "        completed = set(json.load(f))\n",
    "else:\n",
    "    completed = set()\n",
    "\n",
    "# Generate randomized parameter combinations\n",
    "sampler = list(ParameterSampler(param_dist, n_iter=n_iter, random_state=random_state))\n",
    "\n",
    "print(f\"\\n🔎 Starting Random Forest with {n_iter} random trials\")\n",
    "\n",
    "try:\n",
    "    for i, params in enumerate(sampler):\n",
    "        if i in completed:\n",
    "            continue\n",
    "\n",
    "        print(f\"-- Trial {i + 1}/{n_iter}: {params}\")\n",
    "\n",
    "        # Build pipeline with SMOTE to fix class imbalance\n",
    "        pipe = ImbPipeline([\n",
    "            ('scaler', StandardScaler()),\n",
    "            ('smote', SMOTE(random_state=random_state)),\n",
    "            ('clf', RandomForestClassifier(random_state=random_state, n_jobs=-1))\n",
    "        ])\n",
    "        pipe.set_params(**params)\n",
    "\n",
    "        # Train and evaluate\n",
    "        pipe.fit(X_train, y_train)\n",
    "        y_valid_pred = pipe.predict(X_valid)\n",
    "        report = classification_report(y_valid, y_valid_pred)\n",
    "\n",
    "        # Save model\n",
    "        model_path = os.path.join(models_dir, f\"model_{i}.pkl\")\n",
    "        joblib.dump(pipe, model_path)\n",
    "\n",
    "        # Save report\n",
    "        report_path = os.path.join(reports_dir, f\"report_{i}.txt\")\n",
    "        with open(report_path, 'w') as f:\n",
    "            f.write(\"Parameters:\\n\")\n",
    "            f.write(json.dumps(params, indent=2))\n",
    "            f.write(\"\\n\\nClassification Report (Validation):\\n\")\n",
    "            f.write(report)\n",
    "\n",
    "        # Update progress\n",
    "        completed.add(i)\n",
    "        with open(prog_file, 'w') as f:\n",
    "            json.dump(sorted(completed), f)\n",
    "\n",
    "except KeyboardInterrupt:\n",
    "    print(\"⚠️ Interrupted by user. Progress saved.\")\n",
    "\n",
    "print(f\"✅ Completed: {len(completed)}/{n_iter} trials.\")\n"
   ]
  },
  {
   "cell_type": "code",
   "execution_count": 57,
   "id": "ebcc2cac",
   "metadata": {},
   "outputs": [
    {
     "name": "stdout",
     "output_type": "stream",
     "text": [
      "✅ Loaded best model (F1-score: 0.7800) into variable `best_model`.\n"
     ]
    }
   ],
   "source": [
    "import os\n",
    "import joblib\n",
    "import re\n",
    "\n",
    "def extract_f1_from_report(report_text):\n",
    "    \"\"\"\n",
    "    Extracts weighted avg F1-score from a classification report string.\n",
    "    \"\"\"\n",
    "    match = re.search(r'weighted avg\\s+[\\d.]+\\s+[\\d.]+\\s+([\\d.]+)', report_text)\n",
    "    return float(match.group(1)) if match else 0.0\n",
    "\n",
    "best_score = -1\n",
    "best_model_path = None\n",
    "\n",
    "# Loop through all saved reports to find the best F1-score\n",
    "for report_file in os.listdir(reports_dir):\n",
    "    report_path = os.path.join(reports_dir, report_file)\n",
    "    with open(report_path, 'r') as f:\n",
    "        report_text = f.read()\n",
    "        f1 = extract_f1_from_report(report_text)\n",
    "        model_index = int(report_file.split('_')[1].split('.')[0])\n",
    "        \n",
    "        if f1 > best_score:\n",
    "            best_score = f1\n",
    "            best_model_path = os.path.join(models_dir, f\"model_{model_index}.pkl\")\n",
    "\n",
    "# Load the best model into a variable\n",
    "if best_model_path:\n",
    "    best_model = joblib.load(best_model_path)\n",
    "    print(f\"✅ Loaded best model (F1-score: {best_score:.4f}) into variable `best_model`.\")\n",
    "else:\n",
    "    best_model = None\n",
    "    print(\"❌ No valid model found.\")\n"
   ]
  },
  {
   "cell_type": "code",
   "execution_count": 58,
   "id": "241c0b56",
   "metadata": {},
   "outputs": [
    {
     "data": {
      "text/plain": [
       "array([0, 1, 1, 0, 0, 0, 0, 0, 0, 0, 0, 1, 0, 1, 1, 0, 0, 0, 0, 0, 1, 0,\n",
       "       0, 1, 0, 0, 0, 0, 0, 0, 0, 1, 0, 1, 0, 0, 0, 0, 0, 0, 0, 0, 0, 0,\n",
       "       0, 0, 0, 1, 0, 0, 0, 0, 0, 1, 0, 0, 0, 0, 1, 1, 0, 0, 0, 0, 1, 0,\n",
       "       0, 1, 0, 1, 0, 0, 0, 0, 0, 0, 0, 0, 0, 0, 0, 0, 0, 0, 1, 0, 0, 0,\n",
       "       0, 0, 1, 0, 0, 0, 0, 1, 0, 0, 0, 0, 1, 0, 0, 0, 0, 0, 0, 0, 1, 0,\n",
       "       0, 0, 0, 0, 0, 0, 0, 1, 0, 0, 0, 0, 0, 0, 0, 0, 0, 0, 1, 1, 0, 0,\n",
       "       0, 0, 0, 0, 0, 0, 0, 0, 0, 1, 0, 0, 1, 0, 0, 0, 0, 0, 0, 0, 0, 0,\n",
       "       0, 1, 1, 0, 0, 0, 0, 0, 0, 1, 1, 1, 0, 0, 0, 0, 0, 0, 1, 0, 0, 0,\n",
       "       1, 0, 1, 0, 1, 0, 0, 1, 0, 0, 0, 1, 0, 0, 0, 0, 0, 0, 0, 1, 0, 1,\n",
       "       0, 1, 0, 0, 0, 0, 0, 0, 0, 0, 0, 0, 0, 0, 0, 0, 0, 0, 0, 1, 0, 0,\n",
       "       0, 0, 1, 0, 0, 0, 0, 0, 0, 0, 0, 0, 0, 1, 0, 0, 0, 0, 0, 0, 0, 0,\n",
       "       0, 0, 1, 0, 0, 0, 0, 1, 0, 0, 0, 0, 1, 1, 0, 0, 1, 0, 1, 0, 0, 1,\n",
       "       0, 0, 0, 0, 0, 1, 0, 0, 0, 0, 0, 0, 0, 0, 0, 0, 0, 0, 0, 1, 0, 0,\n",
       "       0, 0, 0, 0, 1, 0, 0, 0, 1, 0, 0, 0, 0, 0, 0, 0, 0, 0, 1, 1, 1, 0,\n",
       "       0, 0, 0, 0])"
      ]
     },
     "execution_count": 58,
     "metadata": {},
     "output_type": "execute_result"
    }
   ],
   "source": [
    "predictions = best_model.predict(test_data)\n",
    "predictions = predictions.astype(int)\n",
    "predictions"
   ]
  },
  {
   "cell_type": "code",
   "execution_count": 59,
   "id": "b12f096a",
   "metadata": {},
   "outputs": [],
   "source": [
    "predictions = pd.DataFrame({\n",
    "    'age_group': predictions\n",
    "})\n",
    "prediction.to_csv('submissionrf.csv', index=False)"
   ]
  },
  {
   "cell_type": "code",
   "execution_count": null,
   "id": "903a4cc5",
   "metadata": {},
   "outputs": [],
   "source": []
  },
  {
   "cell_type": "code",
   "execution_count": null,
   "id": "6f64c9d1",
   "metadata": {},
   "outputs": [],
   "source": []
  },
  {
   "cell_type": "markdown",
   "id": "767df3cb",
   "metadata": {},
   "source": [
    "# KNN"
   ]
  },
  {
   "cell_type": "code",
   "execution_count": 60,
   "id": "a2149391",
   "metadata": {},
   "outputs": [
    {
     "data": {
      "text/plain": [
       "RIAGENDR    0\n",
       "PAQ605      0\n",
       "BMXBMI      0\n",
       "LBXGLU      0\n",
       "DIQ010      0\n",
       "LBXGLT      0\n",
       "LBXIN       0\n",
       "grp         0\n",
       "dtype: int64"
      ]
     },
     "execution_count": 60,
     "metadata": {},
     "output_type": "execute_result"
    }
   ],
   "source": [
    "df = data.copy()\n",
    "# df.drop(columns=['SEQN'], inplace=True)\n",
    "df.isnull().sum()"
   ]
  },
  {
   "cell_type": "code",
   "execution_count": 61,
   "id": "2b04b253",
   "metadata": {},
   "outputs": [
    {
     "name": "stdout",
     "output_type": "stream",
     "text": [
      "\n",
      "🔎 Starting KNN random search with 10 trials\n",
      "-- Trial 1/10: {'clf__weights': 'distance', 'clf__n_neighbors': 15, 'clf__metric': 'minkowski'}\n",
      "-- Trial 2/10: {'clf__weights': 'distance', 'clf__n_neighbors': 3, 'clf__metric': 'manhattan'}\n",
      "-- Trial 3/10: {'clf__weights': 'uniform', 'clf__n_neighbors': 5, 'clf__metric': 'minkowski'}\n",
      "-- Trial 4/10: {'clf__weights': 'uniform', 'clf__n_neighbors': 9, 'clf__metric': 'minkowski'}\n",
      "-- Trial 5/10: {'clf__weights': 'uniform', 'clf__n_neighbors': 7, 'clf__metric': 'manhattan'}\n",
      "-- Trial 6/10: {'clf__weights': 'distance', 'clf__n_neighbors': 9, 'clf__metric': 'minkowski'}\n",
      "-- Trial 7/10: {'clf__weights': 'distance', 'clf__n_neighbors': 11, 'clf__metric': 'manhattan'}\n",
      "-- Trial 8/10: {'clf__weights': 'uniform', 'clf__n_neighbors': 3, 'clf__metric': 'manhattan'}\n",
      "-- Trial 9/10: {'clf__weights': 'uniform', 'clf__n_neighbors': 11, 'clf__metric': 'euclidean'}\n",
      "-- Trial 10/10: {'clf__weights': 'distance', 'clf__n_neighbors': 7, 'clf__metric': 'manhattan'}\n",
      "✅ Completed: 10/10 trials.\n"
     ]
    }
   ],
   "source": [
    "import os\n",
    "import json\n",
    "import joblib\n",
    "import numpy as np\n",
    "import pandas as pd\n",
    "\n",
    "from imblearn.pipeline import Pipeline as ImbPipeline\n",
    "from imblearn.over_sampling import SMOTE\n",
    "\n",
    "from sklearn.neighbors import KNeighborsClassifier\n",
    "from sklearn.preprocessing import StandardScaler\n",
    "from sklearn.model_selection import train_test_split, ParameterSampler\n",
    "from sklearn.metrics import classification_report\n",
    "from sklearn.utils import shuffle\n",
    "\n",
    "# =============================\n",
    "# CONFIGURATION\n",
    "# =============================\n",
    "n_iter = 10\n",
    "random_state = 42\n",
    "output_dir = \"random_search_knn_outputs\"\n",
    "# =============================\n",
    "\n",
    "# Load your preprocessed DataFrame\n",
    "df = df_knnimputed.drop(columns=['SEQN', 'age_group'], errors='ignore')\n",
    "\n",
    "# Shuffle and prepare data\n",
    "y = df['grp']\n",
    "X = df.drop(columns=['grp'])\n",
    "X, y = shuffle(X, y, random_state=random_state)\n",
    "\n",
    "# Stratified split: train (70%), validation (15%), test (15%)\n",
    "X_temp, X_test, y_temp, y_test = train_test_split(\n",
    "    X, y, test_size=0.15, random_state=random_state, stratify=y\n",
    ")\n",
    "X_train, X_valid, y_train, y_valid = train_test_split(\n",
    "    X_temp, y_temp, test_size=0.1765, random_state=random_state, stratify=y_temp\n",
    ")\n",
    "\n",
    "# Define parameter search space for KNN\n",
    "param_dist = {\n",
    "    'clf__n_neighbors': [3, 5, 7, 9, 11, 15],\n",
    "    'clf__weights': ['uniform', 'distance'],\n",
    "    'clf__metric': ['euclidean', 'manhattan', 'minkowski']\n",
    "}\n",
    "\n",
    "# Create output directories\n",
    "os.makedirs(output_dir, exist_ok=True)\n",
    "models_dir = os.path.join(output_dir, \"models\")\n",
    "reports_dir = os.path.join(output_dir, \"reports\")\n",
    "prog_file = os.path.join(output_dir, \"progress.json\")\n",
    "os.makedirs(models_dir, exist_ok=True)\n",
    "os.makedirs(reports_dir, exist_ok=True)\n",
    "\n",
    "# Load or initialize progress tracking\n",
    "if os.path.exists(prog_file):\n",
    "    with open(prog_file, 'r') as f:\n",
    "        completed = set(json.load(f))\n",
    "else:\n",
    "    completed = set()\n",
    "\n",
    "# Generate randomized parameter combinations\n",
    "sampler = list(ParameterSampler(param_dist, n_iter=n_iter, random_state=random_state))\n",
    "\n",
    "print(f\"\\n🔎 Starting KNN random search with {n_iter} trials\")\n",
    "\n",
    "try:\n",
    "    for i, params in enumerate(sampler):\n",
    "        if i in completed:\n",
    "            continue\n",
    "\n",
    "        print(f\"-- Trial {i + 1}/{n_iter}: {params}\")\n",
    "\n",
    "        # Build pipeline\n",
    "        pipe = ImbPipeline([\n",
    "            ('scaler', StandardScaler()),\n",
    "            ('smote', SMOTE(random_state=random_state)),\n",
    "            ('clf', KNeighborsClassifier(n_jobs=-1))\n",
    "        ])\n",
    "        pipe.set_params(**params)\n",
    "\n",
    "        # Train and evaluate\n",
    "        pipe.fit(X_train, y_train)\n",
    "        y_valid_pred = pipe.predict(X_valid)\n",
    "        report = classification_report(y_valid, y_valid_pred)\n",
    "\n",
    "        # Save model\n",
    "        model_path = os.path.join(models_dir, f\"model_{i}.pkl\")\n",
    "        joblib.dump(pipe, model_path)\n",
    "\n",
    "        # Save report\n",
    "        report_path = os.path.join(reports_dir, f\"report_{i}.txt\")\n",
    "        with open(report_path, 'w') as f:\n",
    "            f.write(\"Parameters:\\n\")\n",
    "            f.write(json.dumps(params, indent=2))\n",
    "            f.write(\"\\n\\nClassification Report (Validation):\\n\")\n",
    "            f.write(report)\n",
    "\n",
    "        # Update progress\n",
    "        completed.add(i)\n",
    "        with open(prog_file, 'w') as f:\n",
    "            json.dump(sorted(completed), f)\n",
    "\n",
    "except KeyboardInterrupt:\n",
    "    print(\"⚠️ Interrupted by user. Progress saved.\")\n",
    "\n",
    "print(f\"✅ Completed: {len(completed)}/{n_iter} trials.\")\n"
   ]
  },
  {
   "cell_type": "code",
   "execution_count": 62,
   "id": "e79577d2",
   "metadata": {},
   "outputs": [
    {
     "name": "stdout",
     "output_type": "stream",
     "text": [
      "✅ Loaded best model (F1-score: 0.7300) into variable `best_model`.\n"
     ]
    }
   ],
   "source": [
    "import os\n",
    "import joblib\n",
    "import re\n",
    "\n",
    "def extract_f1_from_report(report_text):\n",
    "    \"\"\"\n",
    "    Extracts weighted avg F1-score from a classification report string.\n",
    "    \"\"\"\n",
    "    match = re.search(r'weighted avg\\s+[\\d.]+\\s+[\\d.]+\\s+([\\d.]+)', report_text)\n",
    "    return float(match.group(1)) if match else 0.0\n",
    "\n",
    "best_score = -1\n",
    "best_model_path = None\n",
    "\n",
    "# Loop through all saved reports to find the best F1-score\n",
    "for report_file in os.listdir(reports_dir):\n",
    "    report_path = os.path.join(reports_dir, report_file)\n",
    "    with open(report_path, 'r') as f:\n",
    "        report_text = f.read()\n",
    "        f1 = extract_f1_from_report(report_text)\n",
    "        model_index = int(report_file.split('_')[1].split('.')[0])\n",
    "        \n",
    "        if f1 > best_score:\n",
    "            best_score = f1\n",
    "            best_model_path = os.path.join(models_dir, f\"model_{model_index}.pkl\")\n",
    "\n",
    "# Load the best model into a variable\n",
    "if best_model_path:\n",
    "    best_model = joblib.load(best_model_path)\n",
    "    print(f\"✅ Loaded best model (F1-score: {best_score:.4f}) into variable `best_model`.\")\n",
    "else:\n",
    "    best_model = None\n",
    "    print(\"❌ No valid model found.\")\n"
   ]
  },
  {
   "cell_type": "code",
   "execution_count": 63,
   "id": "386ecf02",
   "metadata": {},
   "outputs": [
    {
     "data": {
      "text/plain": [
       "array([0, 1, 0, 0, 0, 1, 0, 1, 0, 0, 1, 0, 0, 1, 1, 0, 1, 0, 0, 0, 1, 0,\n",
       "       0, 1, 0, 0, 0, 0, 0, 0, 0, 0, 0, 1, 1, 0, 0, 0, 0, 0, 0, 0, 1, 0,\n",
       "       0, 1, 1, 1, 1, 0, 0, 0, 0, 1, 1, 0, 0, 1, 1, 1, 0, 0, 0, 0, 1, 0,\n",
       "       0, 1, 0, 1, 0, 1, 0, 0, 0, 0, 0, 1, 0, 0, 0, 0, 0, 1, 0, 0, 0, 1,\n",
       "       0, 0, 0, 0, 0, 0, 0, 1, 0, 0, 0, 0, 0, 0, 0, 0, 0, 0, 0, 0, 1, 0,\n",
       "       0, 0, 0, 0, 0, 0, 0, 1, 0, 1, 0, 0, 0, 0, 1, 0, 0, 0, 0, 1, 0, 0,\n",
       "       0, 0, 0, 0, 0, 0, 0, 0, 0, 1, 0, 0, 0, 1, 0, 0, 1, 0, 0, 0, 0, 1,\n",
       "       0, 1, 1, 0, 0, 0, 0, 1, 0, 0, 1, 1, 0, 0, 0, 0, 0, 0, 1, 0, 0, 0,\n",
       "       0, 0, 0, 0, 0, 0, 1, 1, 0, 0, 0, 0, 0, 0, 0, 0, 0, 0, 0, 0, 0, 1,\n",
       "       0, 1, 0, 0, 0, 0, 0, 0, 0, 1, 0, 1, 0, 1, 0, 0, 0, 0, 0, 1, 0, 0,\n",
       "       0, 0, 1, 0, 1, 0, 0, 0, 0, 0, 0, 0, 0, 1, 1, 0, 1, 0, 0, 0, 0, 0,\n",
       "       0, 0, 1, 0, 0, 0, 0, 1, 0, 0, 1, 0, 0, 0, 0, 0, 1, 0, 1, 1, 0, 0,\n",
       "       0, 0, 0, 0, 0, 1, 0, 0, 0, 0, 0, 0, 0, 0, 0, 1, 0, 0, 0, 1, 0, 0,\n",
       "       0, 0, 0, 0, 1, 1, 0, 0, 1, 1, 0, 0, 1, 0, 0, 0, 1, 0, 1, 1, 0, 0,\n",
       "       0, 0, 1, 1])"
      ]
     },
     "execution_count": 63,
     "metadata": {},
     "output_type": "execute_result"
    }
   ],
   "source": [
    "predictions = best_model.predict(test_data)\n",
    "predictions = predictions.astype(int)\n",
    "predictions"
   ]
  },
  {
   "cell_type": "code",
   "execution_count": 64,
   "id": "ce56a9ab",
   "metadata": {},
   "outputs": [],
   "source": [
    "predictions = pd.DataFrame({\n",
    "    'age_group': predictions\n",
    "})\n",
    "prediction.to_csv('submissionknn.csv', index=False)"
   ]
  },
  {
   "cell_type": "code",
   "execution_count": null,
   "id": "8ca4e1e6",
   "metadata": {},
   "outputs": [],
   "source": []
  },
  {
   "cell_type": "markdown",
   "id": "6f1150f0",
   "metadata": {},
   "source": [
    "# Neural Network"
   ]
  },
  {
   "cell_type": "code",
   "execution_count": 65,
   "id": "053f9412",
   "metadata": {},
   "outputs": [
    {
     "data": {
      "text/plain": [
       "RIAGENDR    0\n",
       "PAQ605      0\n",
       "BMXBMI      0\n",
       "LBXGLU      0\n",
       "DIQ010      0\n",
       "LBXGLT      0\n",
       "LBXIN       0\n",
       "grp         0\n",
       "dtype: int64"
      ]
     },
     "execution_count": 65,
     "metadata": {},
     "output_type": "execute_result"
    }
   ],
   "source": [
    "df = data.copy()\n",
    "# df.drop(columns=['SEQN'], inplace=True)\n",
    "df.isnull().sum()"
   ]
  },
  {
   "cell_type": "code",
   "execution_count": 66,
   "id": "aaf7a020",
   "metadata": {},
   "outputs": [
    {
     "name": "stdout",
     "output_type": "stream",
     "text": [
      "\n",
      "🔍 Starting 10 random-search trials with TensorFlow...\n",
      "\n",
      "➡️ Trial 1/10 - Params: {'optimizer': 'rmsprop', 'hidden_units': 128, 'epochs': 50, 'dropout_rate': 0.2, 'batch_size': 20}\n"
     ]
    },
    {
     "name": "stderr",
     "output_type": "stream",
     "text": [
      "C:\\Users\\Admin\\AppData\\Roaming\\Python\\Python311\\site-packages\\keras\\src\\layers\\core\\dense.py:93: UserWarning: Do not pass an `input_shape`/`input_dim` argument to a layer. When using Sequential models, prefer using an `Input(shape)` object as the first layer in the model instead.\n",
      "  super().__init__(activity_regularizer=activity_regularizer, **kwargs)\n"
     ]
    },
    {
     "name": "stdout",
     "output_type": "stream",
     "text": [
      "\u001b[1m10/10\u001b[0m \u001b[32m━━━━━━━━━━━━━━━━━━━━\u001b[0m\u001b[37m\u001b[0m \u001b[1m0s\u001b[0m 11ms/step\n",
      "              precision    recall  f1-score   support\n",
      "\n",
      "           0       0.91      0.78      0.84       246\n",
      "           1       0.34      0.57      0.43        47\n",
      "\n",
      "    accuracy                           0.75       293\n",
      "   macro avg       0.62      0.68      0.63       293\n",
      "weighted avg       0.81      0.75      0.77       293\n",
      "\n",
      "\n",
      "➡️ Trial 2/10 - Params: {'optimizer': 'adam', 'hidden_units': 20, 'epochs': 30, 'dropout_rate': 0.4, 'batch_size': 20}\n"
     ]
    },
    {
     "name": "stderr",
     "output_type": "stream",
     "text": [
      "C:\\Users\\Admin\\AppData\\Roaming\\Python\\Python311\\site-packages\\keras\\src\\layers\\core\\dense.py:93: UserWarning: Do not pass an `input_shape`/`input_dim` argument to a layer. When using Sequential models, prefer using an `Input(shape)` object as the first layer in the model instead.\n",
      "  super().__init__(activity_regularizer=activity_regularizer, **kwargs)\n"
     ]
    },
    {
     "name": "stdout",
     "output_type": "stream",
     "text": [
      "\u001b[1m10/10\u001b[0m \u001b[32m━━━━━━━━━━━━━━━━━━━━\u001b[0m\u001b[37m\u001b[0m \u001b[1m0s\u001b[0m 10ms/step\n",
      "              precision    recall  f1-score   support\n",
      "\n",
      "           0       0.92      0.71      0.80       246\n",
      "           1       0.30      0.66      0.42        47\n",
      "\n",
      "    accuracy                           0.70       293\n",
      "   macro avg       0.61      0.69      0.61       293\n",
      "weighted avg       0.82      0.70      0.74       293\n",
      "\n",
      "\n",
      "➡️ Trial 3/10 - Params: {'optimizer': 'rmsprop', 'hidden_units': 20, 'epochs': 50, 'dropout_rate': 0.3, 'batch_size': 64}\n"
     ]
    },
    {
     "name": "stderr",
     "output_type": "stream",
     "text": [
      "C:\\Users\\Admin\\AppData\\Roaming\\Python\\Python311\\site-packages\\keras\\src\\layers\\core\\dense.py:93: UserWarning: Do not pass an `input_shape`/`input_dim` argument to a layer. When using Sequential models, prefer using an `Input(shape)` object as the first layer in the model instead.\n",
      "  super().__init__(activity_regularizer=activity_regularizer, **kwargs)\n"
     ]
    },
    {
     "name": "stdout",
     "output_type": "stream",
     "text": [
      "\u001b[1m10/10\u001b[0m \u001b[32m━━━━━━━━━━━━━━━━━━━━\u001b[0m\u001b[37m\u001b[0m \u001b[1m0s\u001b[0m 10ms/step\n",
      "              precision    recall  f1-score   support\n",
      "\n",
      "           0       0.91      0.75      0.82       246\n",
      "           1       0.32      0.62      0.42        47\n",
      "\n",
      "    accuracy                           0.73       293\n",
      "   macro avg       0.62      0.68      0.62       293\n",
      "weighted avg       0.82      0.73      0.76       293\n",
      "\n",
      "\n",
      "➡️ Trial 4/10 - Params: {'optimizer': 'adam', 'hidden_units': 128, 'epochs': 50, 'dropout_rate': 0.2, 'batch_size': 32}\n"
     ]
    },
    {
     "name": "stderr",
     "output_type": "stream",
     "text": [
      "C:\\Users\\Admin\\AppData\\Roaming\\Python\\Python311\\site-packages\\keras\\src\\layers\\core\\dense.py:93: UserWarning: Do not pass an `input_shape`/`input_dim` argument to a layer. When using Sequential models, prefer using an `Input(shape)` object as the first layer in the model instead.\n",
      "  super().__init__(activity_regularizer=activity_regularizer, **kwargs)\n"
     ]
    },
    {
     "name": "stdout",
     "output_type": "stream",
     "text": [
      "\u001b[1m10/10\u001b[0m \u001b[32m━━━━━━━━━━━━━━━━━━━━\u001b[0m\u001b[37m\u001b[0m \u001b[1m0s\u001b[0m 13ms/step\n",
      "              precision    recall  f1-score   support\n",
      "\n",
      "           0       0.91      0.77      0.83       246\n",
      "           1       0.33      0.60      0.42        47\n",
      "\n",
      "    accuracy                           0.74       293\n",
      "   macro avg       0.62      0.68      0.63       293\n",
      "weighted avg       0.82      0.74      0.77       293\n",
      "\n",
      "\n",
      "➡️ Trial 5/10 - Params: {'optimizer': 'rmsprop', 'hidden_units': 32, 'epochs': 30, 'dropout_rate': 0.3, 'batch_size': 64}\n"
     ]
    },
    {
     "name": "stderr",
     "output_type": "stream",
     "text": [
      "C:\\Users\\Admin\\AppData\\Roaming\\Python\\Python311\\site-packages\\keras\\src\\layers\\core\\dense.py:93: UserWarning: Do not pass an `input_shape`/`input_dim` argument to a layer. When using Sequential models, prefer using an `Input(shape)` object as the first layer in the model instead.\n",
      "  super().__init__(activity_regularizer=activity_regularizer, **kwargs)\n"
     ]
    },
    {
     "name": "stdout",
     "output_type": "stream",
     "text": [
      "\u001b[1m10/10\u001b[0m \u001b[32m━━━━━━━━━━━━━━━━━━━━\u001b[0m\u001b[37m\u001b[0m \u001b[1m0s\u001b[0m 6ms/step \n",
      "              precision    recall  f1-score   support\n",
      "\n",
      "           0       0.90      0.80      0.85       246\n",
      "           1       0.35      0.55      0.43        47\n",
      "\n",
      "    accuracy                           0.76       293\n",
      "   macro avg       0.63      0.68      0.64       293\n",
      "weighted avg       0.81      0.76      0.78       293\n",
      "\n",
      "\n",
      "➡️ Trial 6/10 - Params: {'optimizer': 'rmsprop', 'hidden_units': 32, 'epochs': 50, 'dropout_rate': 0.2, 'batch_size': 20}\n"
     ]
    },
    {
     "name": "stderr",
     "output_type": "stream",
     "text": [
      "C:\\Users\\Admin\\AppData\\Roaming\\Python\\Python311\\site-packages\\keras\\src\\layers\\core\\dense.py:93: UserWarning: Do not pass an `input_shape`/`input_dim` argument to a layer. When using Sequential models, prefer using an `Input(shape)` object as the first layer in the model instead.\n",
      "  super().__init__(activity_regularizer=activity_regularizer, **kwargs)\n"
     ]
    },
    {
     "name": "stdout",
     "output_type": "stream",
     "text": [
      "\u001b[1m10/10\u001b[0m \u001b[32m━━━━━━━━━━━━━━━━━━━━\u001b[0m\u001b[37m\u001b[0m \u001b[1m0s\u001b[0m 6ms/step \n",
      "              precision    recall  f1-score   support\n",
      "\n",
      "           0       0.92      0.76      0.83       246\n",
      "           1       0.34      0.64      0.44        47\n",
      "\n",
      "    accuracy                           0.74       293\n",
      "   macro avg       0.63      0.70      0.64       293\n",
      "weighted avg       0.82      0.74      0.77       293\n",
      "\n",
      "\n",
      "➡️ Trial 7/10 - Params: {'optimizer': 'adam', 'hidden_units': 32, 'epochs': 30, 'dropout_rate': 0.3, 'batch_size': 20}\n"
     ]
    },
    {
     "name": "stderr",
     "output_type": "stream",
     "text": [
      "C:\\Users\\Admin\\AppData\\Roaming\\Python\\Python311\\site-packages\\keras\\src\\layers\\core\\dense.py:93: UserWarning: Do not pass an `input_shape`/`input_dim` argument to a layer. When using Sequential models, prefer using an `Input(shape)` object as the first layer in the model instead.\n",
      "  super().__init__(activity_regularizer=activity_regularizer, **kwargs)\n"
     ]
    },
    {
     "name": "stdout",
     "output_type": "stream",
     "text": [
      "\u001b[1m10/10\u001b[0m \u001b[32m━━━━━━━━━━━━━━━━━━━━\u001b[0m\u001b[37m\u001b[0m \u001b[1m0s\u001b[0m 13ms/step\n",
      "              precision    recall  f1-score   support\n",
      "\n",
      "           0       0.92      0.74      0.82       246\n",
      "           1       0.33      0.68      0.44        47\n",
      "\n",
      "    accuracy                           0.73       293\n",
      "   macro avg       0.63      0.71      0.63       293\n",
      "weighted avg       0.83      0.73      0.76       293\n",
      "\n",
      "\n",
      "➡️ Trial 8/10 - Params: {'optimizer': 'adam', 'hidden_units': 128, 'epochs': 30, 'dropout_rate': 0.2, 'batch_size': 32}\n"
     ]
    },
    {
     "name": "stderr",
     "output_type": "stream",
     "text": [
      "C:\\Users\\Admin\\AppData\\Roaming\\Python\\Python311\\site-packages\\keras\\src\\layers\\core\\dense.py:93: UserWarning: Do not pass an `input_shape`/`input_dim` argument to a layer. When using Sequential models, prefer using an `Input(shape)` object as the first layer in the model instead.\n",
      "  super().__init__(activity_regularizer=activity_regularizer, **kwargs)\n"
     ]
    },
    {
     "name": "stdout",
     "output_type": "stream",
     "text": [
      "\u001b[1m10/10\u001b[0m \u001b[32m━━━━━━━━━━━━━━━━━━━━\u001b[0m\u001b[37m\u001b[0m \u001b[1m0s\u001b[0m 10ms/step\n",
      "              precision    recall  f1-score   support\n",
      "\n",
      "           0       0.91      0.80      0.85       246\n",
      "           1       0.36      0.57      0.44        47\n",
      "\n",
      "    accuracy                           0.76       293\n",
      "   macro avg       0.63      0.69      0.64       293\n",
      "weighted avg       0.82      0.76      0.78       293\n",
      "\n",
      "\n",
      "➡️ Trial 9/10 - Params: {'optimizer': 'rmsprop', 'hidden_units': 20, 'epochs': 50, 'dropout_rate': 0.4, 'batch_size': 32}\n"
     ]
    },
    {
     "name": "stderr",
     "output_type": "stream",
     "text": [
      "C:\\Users\\Admin\\AppData\\Roaming\\Python\\Python311\\site-packages\\keras\\src\\layers\\core\\dense.py:93: UserWarning: Do not pass an `input_shape`/`input_dim` argument to a layer. When using Sequential models, prefer using an `Input(shape)` object as the first layer in the model instead.\n",
      "  super().__init__(activity_regularizer=activity_regularizer, **kwargs)\n"
     ]
    },
    {
     "name": "stdout",
     "output_type": "stream",
     "text": [
      "\u001b[1m10/10\u001b[0m \u001b[32m━━━━━━━━━━━━━━━━━━━━\u001b[0m\u001b[37m\u001b[0m \u001b[1m0s\u001b[0m 7ms/step\n",
      "              precision    recall  f1-score   support\n",
      "\n",
      "           0       0.92      0.72      0.81       246\n",
      "           1       0.31      0.66      0.42        47\n",
      "\n",
      "    accuracy                           0.71       293\n",
      "   macro avg       0.61      0.69      0.61       293\n",
      "weighted avg       0.82      0.71      0.74       293\n",
      "\n",
      "\n",
      "➡️ Trial 10/10 - Params: {'optimizer': 'adam', 'hidden_units': 128, 'epochs': 50, 'dropout_rate': 0.4, 'batch_size': 32}\n"
     ]
    },
    {
     "name": "stderr",
     "output_type": "stream",
     "text": [
      "C:\\Users\\Admin\\AppData\\Roaming\\Python\\Python311\\site-packages\\keras\\src\\layers\\core\\dense.py:93: UserWarning: Do not pass an `input_shape`/`input_dim` argument to a layer. When using Sequential models, prefer using an `Input(shape)` object as the first layer in the model instead.\n",
      "  super().__init__(activity_regularizer=activity_regularizer, **kwargs)\n"
     ]
    },
    {
     "name": "stdout",
     "output_type": "stream",
     "text": [
      "\u001b[1m10/10\u001b[0m \u001b[32m━━━━━━━━━━━━━━━━━━━━\u001b[0m\u001b[37m\u001b[0m \u001b[1m0s\u001b[0m 13ms/step\n",
      "              precision    recall  f1-score   support\n",
      "\n",
      "           0       0.92      0.76      0.83       246\n",
      "           1       0.34      0.64      0.44        47\n",
      "\n",
      "    accuracy                           0.74       293\n",
      "   macro avg       0.63      0.70      0.64       293\n",
      "weighted avg       0.82      0.74      0.77       293\n",
      "\n",
      "\n",
      "✅ Completed: 10/10 trials\n",
      "🏆 Best trial: 4 with weighted F1: 0.7800\n"
     ]
    }
   ],
   "source": [
    "import os, json, re\n",
    "import joblib\n",
    "import numpy as np\n",
    "import pandas as pd\n",
    "from sklearn.utils import shuffle\n",
    "from sklearn.model_selection import train_test_split, ParameterSampler\n",
    "from sklearn.metrics import classification_report\n",
    "from sklearn.preprocessing import StandardScaler\n",
    "from imblearn.over_sampling import SMOTE\n",
    "\n",
    "import tensorflow as tf\n",
    "from tensorflow.keras.models import Sequential\n",
    "from tensorflow.keras.layers import Dense, Dropout\n",
    "from tensorflow.keras.callbacks import EarlyStopping\n",
    "\n",
    "# === CONFIG ===\n",
    "n_iter = 20\n",
    "random_state = 42\n",
    "output_dir = \"random_search_nn_outputs\"\n",
    "os.makedirs(output_dir, exist_ok=True)\n",
    "models_dir = os.path.join(output_dir, \"models\")\n",
    "os.makedirs(models_dir, exist_ok=True)\n",
    "reports_dir = os.path.join(output_dir, \"reports\")\n",
    "os.makedirs(reports_dir, exist_ok=True)\n",
    "prog_file = os.path.join(output_dir, \"progress.json\")\n",
    "completed = set(json.load(open(prog_file))) if os.path.exists(prog_file) else set()\n",
    "\n",
    "# === DATA PREP ===\n",
    "# Replace df_knnimputed with your DataFrame\n",
    "df = df_knnimputed.drop(columns=['SEQN', 'age_group'], errors='ignore')\n",
    "X = df.drop(columns=['grp'])\n",
    "y = df['grp'].astype(int)  # ensure binary labels are integers\n",
    "\n",
    "X, y = shuffle(X, y, random_state=random_state)\n",
    "X_temp, X_test, y_temp, y_test = train_test_split(X, y, test_size=0.15,\n",
    "                                                  random_state=random_state, stratify=y)\n",
    "X_train, X_valid, y_train, y_valid = train_test_split(X_temp, y_temp,\n",
    "                                                      test_size=0.1765,\n",
    "                                                      random_state=random_state,\n",
    "                                                      stratify=y_temp)\n",
    "y_valid = y_valid.astype(int)\n",
    "\n",
    "# === Hyperparameter Space ===\n",
    "param_dist = {\n",
    "    'hidden_units': [10, 20, 32, 64, 128],\n",
    "    'dropout_rate': [0.2, 0.3, 0.4],\n",
    "    'optimizer': ['adam', 'rmsprop'],\n",
    "    'epochs': [30, 50],\n",
    "    'batch_size': [20, 32, 64]\n",
    "}\n",
    "sampler = list(ParameterSampler(param_dist, n_iter=n_iter, random_state=random_state))\n",
    "\n",
    "# === Helper: Model Builder ===\n",
    "def build_model(input_dim, hidden_units, dropout_rate, optimizer):\n",
    "    model = Sequential([\n",
    "        Dense(hidden_units, activation='relu', input_shape=(input_dim,)),\n",
    "        Dropout(dropout_rate),\n",
    "        Dense(hidden_units // 2, activation='relu'),\n",
    "        Dense(1, activation='sigmoid')  # binary output\n",
    "    ])\n",
    "    model.compile(loss='binary_crossentropy', optimizer=optimizer, metrics=['accuracy'])\n",
    "    return model\n",
    "\n",
    "# === Helper: Extract weighted F1 from report ===\n",
    "def extract_f1(report_text):\n",
    "    match = re.search(r\"weighted avg\\s+[\\d.]+\\s+[\\d.]+\\s+([\\d.]+)\", report_text)\n",
    "    return float(match.group(1)) if match else 0.0\n",
    "\n",
    "# === Random Search ===\n",
    "best_model = None\n",
    "best_score = -1\n",
    "best_trial = None\n",
    "\n",
    "print(f\"\\n🔍 Starting {n_iter} random-search trials with TensorFlow...\")\n",
    "\n",
    "for i, params in enumerate(sampler):\n",
    "    if i in completed:\n",
    "        continue\n",
    "    print(f\"\\n➡️ Trial {i+1}/{n_iter} - Params: {params}\")\n",
    "\n",
    "    # === Preprocessing ===\n",
    "    scaler = StandardScaler()\n",
    "    X_train_scaled = scaler.fit_transform(X_train)\n",
    "    X_valid_scaled = scaler.transform(X_valid)\n",
    "\n",
    "    smote = SMOTE(random_state=random_state)\n",
    "    X_train_bal, y_train_bal = smote.fit_resample(X_train_scaled, y_train)\n",
    "    y_train_bal = y_train_bal.astype(int)\n",
    "\n",
    "    # === Model Training ===\n",
    "    model = build_model(\n",
    "        input_dim=X_train_bal.shape[1],\n",
    "        hidden_units=params['hidden_units'],\n",
    "        dropout_rate=params['dropout_rate'],\n",
    "        optimizer=params['optimizer']\n",
    "    )\n",
    "\n",
    "    es = EarlyStopping(patience=5, restore_best_weights=True)\n",
    "    model.fit(X_train_bal, y_train_bal,\n",
    "              epochs=params['epochs'],\n",
    "              batch_size=params['batch_size'],\n",
    "              verbose=0,\n",
    "              validation_data=(X_valid_scaled, y_valid),\n",
    "              callbacks=[es])\n",
    "\n",
    "    # === Evaluation ===\n",
    "    y_pred = model.predict(X_valid_scaled)\n",
    "    y_pred_labels = (y_pred >= 0.5).astype(int).flatten()\n",
    "\n",
    "    report = classification_report(y_valid, y_pred_labels)\n",
    "    f1 = extract_f1(report)\n",
    "    print(report)\n",
    "\n",
    "    # === Save ===\n",
    "    model.save(os.path.join(models_dir, f\"model_{i}.keras\"))\n",
    "    joblib.dump(scaler, os.path.join(models_dir, f\"scaler_{i}.pkl\"))\n",
    "    with open(os.path.join(reports_dir, f\"report_{i}.txt\"), 'w') as f:\n",
    "        f.write(json.dumps(params, indent=2))\n",
    "        f.write(\"\\n\\n\" + report)\n",
    "\n",
    "    if f1 > best_score:\n",
    "        best_score = f1\n",
    "        best_model = model\n",
    "        best_trial = i\n",
    "\n",
    "    completed.add(i)\n",
    "    json.dump(sorted(completed), open(prog_file, 'w'))\n",
    "\n",
    "print(f\"\\n✅ Completed: {len(completed)}/{n_iter} trials\")\n",
    "print(f\"🏆 Best trial: {best_trial} with weighted F1: {best_score:.4f}\")\n"
   ]
  },
  {
   "cell_type": "code",
   "execution_count": 67,
   "id": "0eff403e",
   "metadata": {},
   "outputs": [
    {
     "name": "stdout",
     "output_type": "stream",
     "text": [
      "Before SMOTE: grp\n",
      "0    1146\n",
      "1     220\n",
      "Name: count, dtype: int64\n",
      "After SMOTE: grp\n",
      "1    1146\n",
      "0    1146\n",
      "Name: count, dtype: int64\n"
     ]
    }
   ],
   "source": [
    "print(\"Before SMOTE:\", y_train.value_counts())\n",
    "print(\"After SMOTE:\", pd.Series(y_train_bal).value_counts())\n"
   ]
  },
  {
   "cell_type": "code",
   "execution_count": 68,
   "id": "aea74e88",
   "metadata": {},
   "outputs": [
    {
     "name": "stdout",
     "output_type": "stream",
     "text": [
      "\u001b[1m10/10\u001b[0m \u001b[32m━━━━━━━━━━━━━━━━━━━━\u001b[0m\u001b[37m\u001b[0m \u001b[1m0s\u001b[0m 4ms/step \n"
     ]
    },
    {
     "data": {
      "text/plain": [
       "array([0, 1, 1, 0, 0, 1, 1, 1, 0, 0, 1, 1, 0, 1, 1, 0, 1, 1, 0, 0, 1, 0,\n",
       "       0, 0, 0, 0, 0, 0, 0, 0, 0, 1, 0, 1, 1, 0, 0, 1, 0, 0, 0, 0, 1, 0,\n",
       "       0, 0, 0, 1, 0, 1, 1, 0, 0, 1, 1, 1, 1, 1, 1, 1, 0, 0, 0, 0, 1, 0,\n",
       "       0, 1, 0, 1, 0, 0, 0, 0, 0, 0, 1, 1, 0, 0, 0, 0, 0, 0, 0, 0, 0, 1,\n",
       "       0, 1, 1, 1, 0, 0, 0, 1, 1, 0, 1, 0, 1, 1, 1, 0, 0, 0, 0, 0, 1, 0,\n",
       "       0, 0, 0, 0, 0, 0, 0, 0, 0, 0, 0, 0, 1, 0, 0, 0, 0, 0, 1, 0, 0, 0,\n",
       "       0, 0, 0, 0, 0, 1, 0, 0, 1, 1, 0, 0, 1, 0, 0, 0, 0, 1, 1, 0, 0, 0,\n",
       "       0, 1, 0, 0, 0, 0, 0, 1, 1, 1, 0, 1, 0, 1, 0, 0, 0, 0, 1, 0, 1, 0,\n",
       "       0, 0, 1, 0, 1, 0, 0, 1, 1, 0, 0, 1, 0, 0, 0, 0, 0, 0, 0, 0, 0, 0,\n",
       "       0, 1, 0, 0, 0, 0, 0, 0, 0, 0, 0, 0, 0, 0, 0, 0, 0, 0, 0, 0, 0, 1,\n",
       "       0, 0, 1, 0, 0, 0, 1, 0, 0, 0, 0, 0, 0, 0, 0, 0, 0, 0, 0, 0, 1, 0,\n",
       "       0, 0, 1, 0, 0, 0, 0, 1, 0, 0, 0, 0, 1, 0, 0, 0, 1, 0, 1, 0, 0, 1,\n",
       "       0, 0, 0, 0, 1, 1, 0, 0, 0, 0, 0, 0, 0, 0, 0, 0, 0, 0, 1, 0, 0, 0,\n",
       "       0, 1, 0, 0, 1, 0, 0, 0, 1, 0, 0, 0, 0, 0, 0, 0, 0, 0, 0, 1, 1, 0,\n",
       "       0, 0, 0, 1])"
      ]
     },
     "execution_count": 68,
     "metadata": {},
     "output_type": "execute_result"
    }
   ],
   "source": [
    "predictions = best_model.predict(test_data)\n",
    "predictions = (predictions > 0.5).astype(int).flatten()\n",
    "predictions"
   ]
  },
  {
   "cell_type": "code",
   "execution_count": 69,
   "id": "33287c39",
   "metadata": {},
   "outputs": [
    {
     "data": {
      "text/html": [
       "<div>\n",
       "<style scoped>\n",
       "    .dataframe tbody tr th:only-of-type {\n",
       "        vertical-align: middle;\n",
       "    }\n",
       "\n",
       "    .dataframe tbody tr th {\n",
       "        vertical-align: top;\n",
       "    }\n",
       "\n",
       "    .dataframe thead th {\n",
       "        text-align: right;\n",
       "    }\n",
       "</style>\n",
       "<table border=\"1\" class=\"dataframe\">\n",
       "  <thead>\n",
       "    <tr style=\"text-align: right;\">\n",
       "      <th></th>\n",
       "      <th>age_group</th>\n",
       "    </tr>\n",
       "  </thead>\n",
       "  <tbody>\n",
       "    <tr>\n",
       "      <th>0</th>\n",
       "      <td>0</td>\n",
       "    </tr>\n",
       "    <tr>\n",
       "      <th>1</th>\n",
       "      <td>1</td>\n",
       "    </tr>\n",
       "    <tr>\n",
       "      <th>2</th>\n",
       "      <td>1</td>\n",
       "    </tr>\n",
       "    <tr>\n",
       "      <th>3</th>\n",
       "      <td>0</td>\n",
       "    </tr>\n",
       "    <tr>\n",
       "      <th>4</th>\n",
       "      <td>0</td>\n",
       "    </tr>\n",
       "    <tr>\n",
       "      <th>...</th>\n",
       "      <td>...</td>\n",
       "    </tr>\n",
       "    <tr>\n",
       "      <th>307</th>\n",
       "      <td>0</td>\n",
       "    </tr>\n",
       "    <tr>\n",
       "      <th>308</th>\n",
       "      <td>0</td>\n",
       "    </tr>\n",
       "    <tr>\n",
       "      <th>309</th>\n",
       "      <td>0</td>\n",
       "    </tr>\n",
       "    <tr>\n",
       "      <th>310</th>\n",
       "      <td>0</td>\n",
       "    </tr>\n",
       "    <tr>\n",
       "      <th>311</th>\n",
       "      <td>1</td>\n",
       "    </tr>\n",
       "  </tbody>\n",
       "</table>\n",
       "<p>312 rows × 1 columns</p>\n",
       "</div>"
      ],
      "text/plain": [
       "     age_group\n",
       "0            0\n",
       "1            1\n",
       "2            1\n",
       "3            0\n",
       "4            0\n",
       "..         ...\n",
       "307          0\n",
       "308          0\n",
       "309          0\n",
       "310          0\n",
       "311          1\n",
       "\n",
       "[312 rows x 1 columns]"
      ]
     },
     "execution_count": 69,
     "metadata": {},
     "output_type": "execute_result"
    }
   ],
   "source": [
    "predictions = pd.DataFrame({\n",
    "    'age_group': predictions\n",
    "})\n",
    "predictions.to_csv('submissionnn.csv', index=False)\n",
    "\n",
    "predictions"
   ]
  }
 ],
 "metadata": {
  "kernelspec": {
   "display_name": "Python 3",
   "language": "python",
   "name": "python3"
  },
  "language_info": {
   "codemirror_mode": {
    "name": "ipython",
    "version": 3
   },
   "file_extension": ".py",
   "mimetype": "text/x-python",
   "name": "python",
   "nbconvert_exporter": "python",
   "pygments_lexer": "ipython3",
   "version": "3.11.0"
  }
 },
 "nbformat": 4,
 "nbformat_minor": 5
}
